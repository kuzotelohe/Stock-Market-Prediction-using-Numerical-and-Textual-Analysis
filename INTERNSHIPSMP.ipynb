{
 "cells": [
  {
   "cell_type": "markdown",
   "metadata": {},
   "source": [
    "# Stock Market Prediction using Numerical and Textual Analysis\n",
    "## Internship on Data Science and Business Analytics"
   ]
  },
  {
   "cell_type": "markdown",
   "metadata": {},
   "source": [
    "## Author:  Kuzote Lohe"
   ]
  },
  {
   "cell_type": "code",
   "execution_count": 1,
   "metadata": {},
   "outputs": [],
   "source": [
    "#Import the libraries\n",
    "import math\n",
    "import pandas_datareader as web\n",
    "import numpy as np\n",
    "import pandas as pd\n",
    "from sklearn.preprocessing import MinMaxScaler\n",
    "from keras.models import Sequential\n",
    "from keras.layers import Dense, LSTM\n",
    "import matplotlib.pyplot as plt\n",
    "plt.style.use('fivethirtyeight')"
   ]
  },
  {
   "cell_type": "code",
   "execution_count": 2,
   "metadata": {},
   "outputs": [
    {
     "data": {
      "text/html": [
       "<div>\n",
       "<style scoped>\n",
       "    .dataframe tbody tr th:only-of-type {\n",
       "        vertical-align: middle;\n",
       "    }\n",
       "\n",
       "    .dataframe tbody tr th {\n",
       "        vertical-align: top;\n",
       "    }\n",
       "\n",
       "    .dataframe thead th {\n",
       "        text-align: right;\n",
       "    }\n",
       "</style>\n",
       "<table border=\"1\" class=\"dataframe\">\n",
       "  <thead>\n",
       "    <tr style=\"text-align: right;\">\n",
       "      <th></th>\n",
       "      <th>Date</th>\n",
       "      <th>Open</th>\n",
       "      <th>High</th>\n",
       "      <th>Low</th>\n",
       "      <th>Close</th>\n",
       "      <th>Adj Close</th>\n",
       "      <th>Volume</th>\n",
       "    </tr>\n",
       "  </thead>\n",
       "  <tbody>\n",
       "    <tr>\n",
       "      <th>0</th>\n",
       "      <td>2010-01-04</td>\n",
       "      <td>312.304413</td>\n",
       "      <td>313.579620</td>\n",
       "      <td>310.954468</td>\n",
       "      <td>312.204773</td>\n",
       "      <td>312.204773</td>\n",
       "      <td>3927000</td>\n",
       "    </tr>\n",
       "    <tr>\n",
       "      <th>1</th>\n",
       "      <td>2010-01-05</td>\n",
       "      <td>312.418976</td>\n",
       "      <td>312.747742</td>\n",
       "      <td>309.609497</td>\n",
       "      <td>310.829926</td>\n",
       "      <td>310.829926</td>\n",
       "      <td>6031900</td>\n",
       "    </tr>\n",
       "    <tr>\n",
       "      <th>2</th>\n",
       "      <td>2010-01-06</td>\n",
       "      <td>311.761444</td>\n",
       "      <td>311.761444</td>\n",
       "      <td>302.047852</td>\n",
       "      <td>302.994293</td>\n",
       "      <td>302.994293</td>\n",
       "      <td>7987100</td>\n",
       "    </tr>\n",
       "    <tr>\n",
       "      <th>3</th>\n",
       "      <td>2010-01-07</td>\n",
       "      <td>303.562164</td>\n",
       "      <td>303.861053</td>\n",
       "      <td>295.218445</td>\n",
       "      <td>295.940735</td>\n",
       "      <td>295.940735</td>\n",
       "      <td>12876600</td>\n",
       "    </tr>\n",
       "    <tr>\n",
       "      <th>4</th>\n",
       "      <td>2010-01-08</td>\n",
       "      <td>294.894653</td>\n",
       "      <td>300.498657</td>\n",
       "      <td>293.455048</td>\n",
       "      <td>299.885956</td>\n",
       "      <td>299.885956</td>\n",
       "      <td>9483900</td>\n",
       "    </tr>\n",
       "    <tr>\n",
       "      <th>...</th>\n",
       "      <td>...</td>\n",
       "      <td>...</td>\n",
       "      <td>...</td>\n",
       "      <td>...</td>\n",
       "      <td>...</td>\n",
       "      <td>...</td>\n",
       "      <td>...</td>\n",
       "    </tr>\n",
       "    <tr>\n",
       "      <th>2732</th>\n",
       "      <td>2020-11-09</td>\n",
       "      <td>1790.900024</td>\n",
       "      <td>1818.060059</td>\n",
       "      <td>1760.020020</td>\n",
       "      <td>1763.000000</td>\n",
       "      <td>1763.000000</td>\n",
       "      <td>2268300</td>\n",
       "    </tr>\n",
       "    <tr>\n",
       "      <th>2733</th>\n",
       "      <td>2020-11-10</td>\n",
       "      <td>1731.089966</td>\n",
       "      <td>1763.000000</td>\n",
       "      <td>1717.300049</td>\n",
       "      <td>1740.390015</td>\n",
       "      <td>1740.390015</td>\n",
       "      <td>2636100</td>\n",
       "    </tr>\n",
       "    <tr>\n",
       "      <th>2734</th>\n",
       "      <td>2020-11-11</td>\n",
       "      <td>1750.000000</td>\n",
       "      <td>1764.219971</td>\n",
       "      <td>1747.364990</td>\n",
       "      <td>1752.709961</td>\n",
       "      <td>1752.709961</td>\n",
       "      <td>1264000</td>\n",
       "    </tr>\n",
       "    <tr>\n",
       "      <th>2735</th>\n",
       "      <td>2020-11-12</td>\n",
       "      <td>1747.630005</td>\n",
       "      <td>1768.270020</td>\n",
       "      <td>1745.599976</td>\n",
       "      <td>1749.839966</td>\n",
       "      <td>1749.839966</td>\n",
       "      <td>1247500</td>\n",
       "    </tr>\n",
       "    <tr>\n",
       "      <th>2736</th>\n",
       "      <td>2020-11-13</td>\n",
       "      <td>1757.630005</td>\n",
       "      <td>1781.040039</td>\n",
       "      <td>1744.550049</td>\n",
       "      <td>1777.020020</td>\n",
       "      <td>1777.020020</td>\n",
       "      <td>1499900</td>\n",
       "    </tr>\n",
       "  </tbody>\n",
       "</table>\n",
       "<p>2737 rows × 7 columns</p>\n",
       "</div>"
      ],
      "text/plain": [
       "            Date         Open         High          Low        Close  \\\n",
       "0     2010-01-04   312.304413   313.579620   310.954468   312.204773   \n",
       "1     2010-01-05   312.418976   312.747742   309.609497   310.829926   \n",
       "2     2010-01-06   311.761444   311.761444   302.047852   302.994293   \n",
       "3     2010-01-07   303.562164   303.861053   295.218445   295.940735   \n",
       "4     2010-01-08   294.894653   300.498657   293.455048   299.885956   \n",
       "...          ...          ...          ...          ...          ...   \n",
       "2732  2020-11-09  1790.900024  1818.060059  1760.020020  1763.000000   \n",
       "2733  2020-11-10  1731.089966  1763.000000  1717.300049  1740.390015   \n",
       "2734  2020-11-11  1750.000000  1764.219971  1747.364990  1752.709961   \n",
       "2735  2020-11-12  1747.630005  1768.270020  1745.599976  1749.839966   \n",
       "2736  2020-11-13  1757.630005  1781.040039  1744.550049  1777.020020   \n",
       "\n",
       "        Adj Close    Volume  \n",
       "0      312.204773   3927000  \n",
       "1      310.829926   6031900  \n",
       "2      302.994293   7987100  \n",
       "3      295.940735  12876600  \n",
       "4      299.885956   9483900  \n",
       "...           ...       ...  \n",
       "2732  1763.000000   2268300  \n",
       "2733  1740.390015   2636100  \n",
       "2734  1752.709961   1264000  \n",
       "2735  1749.839966   1247500  \n",
       "2736  1777.020020   1499900  \n",
       "\n",
       "[2737 rows x 7 columns]"
      ]
     },
     "execution_count": 2,
     "metadata": {},
     "output_type": "execute_result"
    }
   ],
   "source": [
    "#Get the stock quote \n",
    "df = stocks = pd.read_csv(r'C:\\Users\\Hiu\\Desktop\\Task 3\\GOOG.csv') \n",
    "#Show the data \n",
    "df"
   ]
  },
  {
   "cell_type": "code",
   "execution_count": 3,
   "metadata": {},
   "outputs": [
    {
     "data": {
      "image/png": "[encoded data removed]",
      "text/plain": [
       "<Figure size 1152x576 with 1 Axes>"
      ]
     },
     "metadata": {},
     "output_type": "display_data"
    }
   ],
   "source": [
    "#Visualize the closing price history\n",
    "plt.figure(figsize=(16,8))\n",
    "plt.title('Close Price History')\n",
    "plt.plot(df['Close'])\n",
    "plt.xlabel('Date',fontsize=18)\n",
    "plt.ylabel('Close Price USD ($)',fontsize=18)\n",
    "plt.show()"
   ]
  },
  {
   "cell_type": "code",
   "execution_count": 4,
   "metadata": {},
   "outputs": [],
   "source": [
    "#Create a new dataframe with only the 'Close' column\n",
    "data = df.filter(['Close'])\n",
    "#Converting the dataframe to a numpy array\n",
    "dataset = data.values\n",
    "#Get /Compute the number of rows to train the model on\n",
    "training_data_len = math.ceil( len(dataset) *.8)"
   ]
  },
  {
   "cell_type": "code",
   "execution_count": 5,
   "metadata": {},
   "outputs": [],
   "source": [
    "#Scale the all of the data to be values between 0 and 1 \n",
    "scaler = MinMaxScaler(feature_range=(0, 1)) \n",
    "scaled_data = scaler.fit_transform(dataset)"
   ]
  },
  {
   "cell_type": "code",
   "execution_count": 6,
   "metadata": {},
   "outputs": [],
   "source": [
    "#Create the scaled training data set \n",
    "train_data = scaled_data[0:training_data_len  , : ]\n",
    "#Split the data into x_train and y_train data sets\n",
    "x_train=[]\n",
    "y_train = []\n",
    "for i in range(60,len(train_data)):\n",
    "    x_train.append(train_data[i-60:i,0])\n",
    "    y_train.append(train_data[i,0])"
   ]
  },
  {
   "cell_type": "code",
   "execution_count": 7,
   "metadata": {},
   "outputs": [],
   "source": [
    "#Convert x_train and y_train to numpy arrays\n",
    "x_train, y_train = np.array(x_train), np.array(y_train)"
   ]
  },
  {
   "cell_type": "code",
   "execution_count": 8,
   "metadata": {},
   "outputs": [],
   "source": [
    "#Reshape the data into the shape accepted by the LSTM\n",
    "x_train = np.reshape(x_train, (x_train.shape[0],x_train.shape[1],1))"
   ]
  },
  {
   "cell_type": "code",
   "execution_count": 9,
   "metadata": {},
   "outputs": [],
   "source": [
    "#Build the LSTM network model\n",
    "model = Sequential()\n",
    "model.add(LSTM(units=50, return_sequences=True,input_shape=(x_train.shape[1],1)))\n",
    "model.add(LSTM(units=50, return_sequences=False))\n",
    "model.add(Dense(units=25))\n",
    "model.add(Dense(units=1))"
   ]
  },
  {
   "cell_type": "code",
   "execution_count": 10,
   "metadata": {},
   "outputs": [],
   "source": [
    "#Compile the model\n",
    "model.compile(optimizer='adam', loss='mean_squared_error')"
   ]
  },
  {
   "cell_type": "code",
   "execution_count": 11,
   "metadata": {},
   "outputs": [
    {
     "name": "stdout",
     "output_type": "stream",
     "text": [
      "2130/2130 [==============================] - 31s 15ms/step - loss: 7.4169e-04\n"
     ]
    },
    {
     "data": {
      "text/plain": [
       "<tensorflow.python.keras.callbacks.History at 0x249e5a5dd30>"
      ]
     },
     "execution_count": 11,
     "metadata": {},
     "output_type": "execute_result"
    }
   ],
   "source": [
    "#Train the model\n",
    "model.fit(x_train, y_train, batch_size=1, epochs=1)"
   ]
  },
  {
   "cell_type": "code",
   "execution_count": 12,
   "metadata": {},
   "outputs": [],
   "source": [
    "#Test data set\n",
    "test_data = scaled_data[training_data_len - 60: , : ]\n",
    "#Create the x_test and y_test data sets\n",
    "x_test = []\n",
    "y_test =  dataset[training_data_len : , : ] #Get all of the rows from index 1603 to the rest and all of the columns (in this case it's only column 'Close'), so 2003 - 1603 = 400 rows of data\n",
    "for i in range(60,len(test_data)):\n",
    "    x_test.append(test_data[i-60:i,0])"
   ]
  },
  {
   "cell_type": "code",
   "execution_count": 13,
   "metadata": {},
   "outputs": [],
   "source": [
    "#Convert x_test to a numpy array \n",
    "x_test = np.array(x_test)"
   ]
  },
  {
   "cell_type": "code",
   "execution_count": 14,
   "metadata": {},
   "outputs": [],
   "source": [
    "#Reshape the data into the shape accepted by the LSTM\n",
    "x_test = np.reshape(x_test, (x_test.shape[0], x_test.shape[1], 1))"
   ]
  },
  {
   "cell_type": "code",
   "execution_count": 15,
   "metadata": {},
   "outputs": [],
   "source": [
    "#Getting the models predicted price values\n",
    "predictions = model.predict(x_test) \n",
    "predictions = scaler.inverse_transform(predictions)#Undo scaling"
   ]
  },
  {
   "cell_type": "code",
   "execution_count": 16,
   "metadata": {},
   "outputs": [
    {
     "data": {
      "text/plain": [
       "47.95326609180167"
      ]
     },
     "execution_count": 16,
     "metadata": {},
     "output_type": "execute_result"
    }
   ],
   "source": [
    "#Calculate/Get the value of RMSE\n",
    "rmse=np.sqrt(np.mean(((predictions- y_test)**2)))\n",
    "rmse"
   ]
  },
  {
   "cell_type": "code",
   "execution_count": 17,
   "metadata": {},
   "outputs": [
    {
     "name": "stderr",
     "output_type": "stream",
     "text": [
      "<ipython-input-17-c1beac80e8e6>:4: SettingWithCopyWarning: \n",
      "A value is trying to be set on a copy of a slice from a DataFrame.\n",
      "Try using .loc[row_indexer,col_indexer] = value instead\n",
      "\n",
      "See the caveats in the documentation: https://pandas.pydata.org/pandas-docs/stable/user_guide/indexing.html#returning-a-view-versus-a-copy\n",
      "  valid['Predictions'] = predictions\n"
     ]
    },
    {
     "data": {
      "image/png": "[encoded data removed]",
      "text/plain": [
       "<Figure size 1152x576 with 1 Axes>"
      ]
     },
     "metadata": {},
     "output_type": "display_data"
    }
   ],
   "source": [
    "#Plot/Create the data for the graph\n",
    "train = data[:training_data_len]\n",
    "valid = data[training_data_len:]\n",
    "valid['Predictions'] = predictions\n",
    "#Visualize the data\n",
    "plt.figure(figsize=(16,8))\n",
    "plt.title('Model')\n",
    "plt.xlabel('Date', fontsize=18)\n",
    "plt.ylabel('Close Price USD ($)', fontsize=18)\n",
    "plt.plot(train['Close'])\n",
    "plt.plot(valid[['Close', 'Predictions']])\n",
    "plt.legend(['Train', 'Val', 'Predictions'], loc='lower right')\n",
    "plt.show()"
   ]
  },
  {
   "cell_type": "code",
   "execution_count": 18,
   "metadata": {},
   "outputs": [
    {
     "data": {
      "text/html": [
       "<div>\n",
       "<style scoped>\n",
       "    .dataframe tbody tr th:only-of-type {\n",
       "        vertical-align: middle;\n",
       "    }\n",
       "\n",
       "    .dataframe tbody tr th {\n",
       "        vertical-align: top;\n",
       "    }\n",
       "\n",
       "    .dataframe thead th {\n",
       "        text-align: right;\n",
       "    }\n",
       "</style>\n",
       "<table border=\"1\" class=\"dataframe\">\n",
       "  <thead>\n",
       "    <tr style=\"text-align: right;\">\n",
       "      <th></th>\n",
       "      <th>Close</th>\n",
       "      <th>Predictions</th>\n",
       "    </tr>\n",
       "  </thead>\n",
       "  <tbody>\n",
       "    <tr>\n",
       "      <th>2190</th>\n",
       "      <td>1172.530029</td>\n",
       "      <td>1214.566650</td>\n",
       "    </tr>\n",
       "    <tr>\n",
       "      <th>2191</th>\n",
       "      <td>1156.050049</td>\n",
       "      <td>1212.507568</td>\n",
       "    </tr>\n",
       "    <tr>\n",
       "      <th>2192</th>\n",
       "      <td>1161.219971</td>\n",
       "      <td>1209.285278</td>\n",
       "    </tr>\n",
       "    <tr>\n",
       "      <th>2193</th>\n",
       "      <td>1171.089966</td>\n",
       "      <td>1206.529053</td>\n",
       "    </tr>\n",
       "    <tr>\n",
       "      <th>2194</th>\n",
       "      <td>1186.869995</td>\n",
       "      <td>1205.367188</td>\n",
       "    </tr>\n",
       "    <tr>\n",
       "      <th>...</th>\n",
       "      <td>...</td>\n",
       "      <td>...</td>\n",
       "    </tr>\n",
       "    <tr>\n",
       "      <th>2732</th>\n",
       "      <td>1763.000000</td>\n",
       "      <td>1678.671509</td>\n",
       "    </tr>\n",
       "    <tr>\n",
       "      <th>2733</th>\n",
       "      <td>1740.390015</td>\n",
       "      <td>1698.039185</td>\n",
       "    </tr>\n",
       "    <tr>\n",
       "      <th>2734</th>\n",
       "      <td>1752.709961</td>\n",
       "      <td>1710.750854</td>\n",
       "    </tr>\n",
       "    <tr>\n",
       "      <th>2735</th>\n",
       "      <td>1749.839966</td>\n",
       "      <td>1720.398193</td>\n",
       "    </tr>\n",
       "    <tr>\n",
       "      <th>2736</th>\n",
       "      <td>1777.020020</td>\n",
       "      <td>1726.995728</td>\n",
       "    </tr>\n",
       "  </tbody>\n",
       "</table>\n",
       "<p>547 rows × 2 columns</p>\n",
       "</div>"
      ],
      "text/plain": [
       "            Close  Predictions\n",
       "2190  1172.530029  1214.566650\n",
       "2191  1156.050049  1212.507568\n",
       "2192  1161.219971  1209.285278\n",
       "2193  1171.089966  1206.529053\n",
       "2194  1186.869995  1205.367188\n",
       "...           ...          ...\n",
       "2732  1763.000000  1678.671509\n",
       "2733  1740.390015  1698.039185\n",
       "2734  1752.709961  1710.750854\n",
       "2735  1749.839966  1720.398193\n",
       "2736  1777.020020  1726.995728\n",
       "\n",
       "[547 rows x 2 columns]"
      ]
     },
     "execution_count": 18,
     "metadata": {},
     "output_type": "execute_result"
    }
   ],
   "source": [
    "#Show the valid and predicted prices\n",
    "valid"
   ]
  },
  {
   "cell_type": "code",
   "execution_count": 19,
   "metadata": {},
   "outputs": [
    {
     "name": "stdout",
     "output_type": "stream",
     "text": [
      "[[1710.7511]]\n"
     ]
    }
   ],
   "source": [
    "#Get the quote\n",
    "google_quote = web.DataReader('GOOG', data_source='yahoo', start='2012-01-01', end='2020-11-10')\n",
    "#Create a new dataframe\n",
    "new_df = google_quote.filter(['Close'])\n",
    "#Get teh last 60 day closing price \n",
    "last_60_days = new_df[-60:].values\n",
    "#Scale the data to be values between 0 and 1\n",
    "last_60_days_scaled = scaler.transform(last_60_days)\n",
    "#Create an empty list\n",
    "X_test = []\n",
    "#Append teh past 60 days\n",
    "X_test.append(last_60_days_scaled)\n",
    "#Convert the X_test data set to a numpy array\n",
    "X_test = np.array(X_test)\n",
    "#Reshape the data\n",
    "X_test = np.reshape(X_test, (X_test.shape[0], X_test.shape[1], 1))\n",
    "#Get the predicted scaled price\n",
    "pred_price = model.predict(X_test)\n",
    "#undo the scaling \n",
    "pred_price = scaler.inverse_transform(pred_price)\n",
    "print(pred_price)"
   ]
  },
  {
   "cell_type": "markdown",
   "metadata": {},
   "source": [
    "# Texture"
   ]
  },
  {
   "cell_type": "code",
   "execution_count": 20,
   "metadata": {},
   "outputs": [],
   "source": [
    "news_data = pd.read_csv(r'C:\\Users\\Hiu\\Desktop\\Akuzo\\Internship\\TSF-main\\TSF-main\\india-news-headlines.csv', error_bad_lines=False)"
   ]
  },
  {
   "cell_type": "code",
   "execution_count": 21,
   "metadata": {},
   "outputs": [
    {
     "data": {
      "text/html": [
       "<div>\n",
       "<style scoped>\n",
       "    .dataframe tbody tr th:only-of-type {\n",
       "        vertical-align: middle;\n",
       "    }\n",
       "\n",
       "    .dataframe tbody tr th {\n",
       "        vertical-align: top;\n",
       "    }\n",
       "\n",
       "    .dataframe thead th {\n",
       "        text-align: right;\n",
       "    }\n",
       "</style>\n",
       "<table border=\"1\" class=\"dataframe\">\n",
       "  <thead>\n",
       "    <tr style=\"text-align: right;\">\n",
       "      <th></th>\n",
       "      <th>publish_date</th>\n",
       "      <th>headline_category</th>\n",
       "      <th>headline_text</th>\n",
       "    </tr>\n",
       "  </thead>\n",
       "  <tbody>\n",
       "    <tr>\n",
       "      <th>0</th>\n",
       "      <td>20010101</td>\n",
       "      <td>sports.wwe</td>\n",
       "      <td>win over cena satisfying but defeating underta...</td>\n",
       "    </tr>\n",
       "    <tr>\n",
       "      <th>1</th>\n",
       "      <td>20010102</td>\n",
       "      <td>unknown</td>\n",
       "      <td>Status quo will not be disturbed at Ayodhya; s...</td>\n",
       "    </tr>\n",
       "    <tr>\n",
       "      <th>2</th>\n",
       "      <td>20010102</td>\n",
       "      <td>unknown</td>\n",
       "      <td>Fissures in Hurriyat over Pak visit</td>\n",
       "    </tr>\n",
       "    <tr>\n",
       "      <th>3</th>\n",
       "      <td>20010102</td>\n",
       "      <td>unknown</td>\n",
       "      <td>America's unwanted heading for India?</td>\n",
       "    </tr>\n",
       "    <tr>\n",
       "      <th>4</th>\n",
       "      <td>20010102</td>\n",
       "      <td>unknown</td>\n",
       "      <td>For bigwigs; it is destination Goa</td>\n",
       "    </tr>\n",
       "  </tbody>\n",
       "</table>\n",
       "</div>"
      ],
      "text/plain": [
       "   publish_date headline_category  \\\n",
       "0      20010101        sports.wwe   \n",
       "1      20010102           unknown   \n",
       "2      20010102           unknown   \n",
       "3      20010102           unknown   \n",
       "4      20010102           unknown   \n",
       "\n",
       "                                       headline_text  \n",
       "0  win over cena satisfying but defeating underta...  \n",
       "1  Status quo will not be disturbed at Ayodhya; s...  \n",
       "2                Fissures in Hurriyat over Pak visit  \n",
       "3              America's unwanted heading for India?  \n",
       "4                 For bigwigs; it is destination Goa  "
      ]
     },
     "execution_count": 21,
     "metadata": {},
     "output_type": "execute_result"
    }
   ],
   "source": [
    "news_data.head()"
   ]
  },
  {
   "cell_type": "markdown",
   "metadata": {},
   "source": [
    "# Data Pre-processing and EDA of News Dataset"
   ]
  },
  {
   "cell_type": "code",
   "execution_count": 22,
   "metadata": {},
   "outputs": [],
   "source": [
    "news_data['published_date'] = np.array([str(str(str(x)[:4]) + '/' + str(str(x)[4:6]) + '/' + str(str(x)[6:])) for x in news_data['publish_date']])"
   ]
  },
  {
   "cell_type": "code",
   "execution_count": 23,
   "metadata": {},
   "outputs": [
    {
     "data": {
      "text/html": [
       "<div>\n",
       "<style scoped>\n",
       "    .dataframe tbody tr th:only-of-type {\n",
       "        vertical-align: middle;\n",
       "    }\n",
       "\n",
       "    .dataframe tbody tr th {\n",
       "        vertical-align: top;\n",
       "    }\n",
       "\n",
       "    .dataframe thead th {\n",
       "        text-align: right;\n",
       "    }\n",
       "</style>\n",
       "<table border=\"1\" class=\"dataframe\">\n",
       "  <thead>\n",
       "    <tr style=\"text-align: right;\">\n",
       "      <th></th>\n",
       "      <th>publish_date</th>\n",
       "      <th>headline_category</th>\n",
       "      <th>headline_text</th>\n",
       "      <th>published_date</th>\n",
       "    </tr>\n",
       "  </thead>\n",
       "  <tbody>\n",
       "    <tr>\n",
       "      <th>0</th>\n",
       "      <td>20010101</td>\n",
       "      <td>sports.wwe</td>\n",
       "      <td>win over cena satisfying but defeating underta...</td>\n",
       "      <td>2001/01/01</td>\n",
       "    </tr>\n",
       "    <tr>\n",
       "      <th>1</th>\n",
       "      <td>20010102</td>\n",
       "      <td>unknown</td>\n",
       "      <td>Status quo will not be disturbed at Ayodhya; s...</td>\n",
       "      <td>2001/01/02</td>\n",
       "    </tr>\n",
       "    <tr>\n",
       "      <th>2</th>\n",
       "      <td>20010102</td>\n",
       "      <td>unknown</td>\n",
       "      <td>Fissures in Hurriyat over Pak visit</td>\n",
       "      <td>2001/01/02</td>\n",
       "    </tr>\n",
       "    <tr>\n",
       "      <th>3</th>\n",
       "      <td>20010102</td>\n",
       "      <td>unknown</td>\n",
       "      <td>America's unwanted heading for India?</td>\n",
       "      <td>2001/01/02</td>\n",
       "    </tr>\n",
       "    <tr>\n",
       "      <th>4</th>\n",
       "      <td>20010102</td>\n",
       "      <td>unknown</td>\n",
       "      <td>For bigwigs; it is destination Goa</td>\n",
       "      <td>2001/01/02</td>\n",
       "    </tr>\n",
       "  </tbody>\n",
       "</table>\n",
       "</div>"
      ],
      "text/plain": [
       "   publish_date headline_category  \\\n",
       "0      20010101        sports.wwe   \n",
       "1      20010102           unknown   \n",
       "2      20010102           unknown   \n",
       "3      20010102           unknown   \n",
       "4      20010102           unknown   \n",
       "\n",
       "                                       headline_text published_date  \n",
       "0  win over cena satisfying but defeating underta...     2001/01/01  \n",
       "1  Status quo will not be disturbed at Ayodhya; s...     2001/01/02  \n",
       "2                Fissures in Hurriyat over Pak visit     2001/01/02  \n",
       "3              America's unwanted heading for India?     2001/01/02  \n",
       "4                 For bigwigs; it is destination Goa     2001/01/02  "
      ]
     },
     "execution_count": 23,
     "metadata": {},
     "output_type": "execute_result"
    }
   ],
   "source": [
    "news_data.head()"
   ]
  },
  {
   "cell_type": "code",
   "execution_count": 24,
   "metadata": {},
   "outputs": [],
   "source": [
    "news_data['published_date'] = pd.to_datetime(news_data['published_date'])"
   ]
  },
  {
   "cell_type": "code",
   "execution_count": 25,
   "metadata": {},
   "outputs": [
    {
     "name": "stdout",
     "output_type": "stream",
     "text": [
      "<class 'pandas.core.frame.DataFrame'>\n",
      "RangeIndex: 3297172 entries, 0 to 3297171\n",
      "Data columns (total 4 columns):\n",
      " #   Column             Dtype         \n",
      "---  ------             -----         \n",
      " 0   publish_date       int64         \n",
      " 1   headline_category  object        \n",
      " 2   headline_text      object        \n",
      " 3   published_date     datetime64[ns]\n",
      "dtypes: datetime64[ns](1), int64(1), object(2)\n",
      "memory usage: 100.6+ MB\n"
     ]
    }
   ],
   "source": [
    "news_data.info()"
   ]
  },
  {
   "cell_type": "code",
   "execution_count": 26,
   "metadata": {},
   "outputs": [],
   "source": [
    "news_data = news_data[['published_date', 'headline_text']]"
   ]
  },
  {
   "cell_type": "code",
   "execution_count": 27,
   "metadata": {},
   "outputs": [],
   "source": [
    "news_data.columns = ['published_date', 'headline']"
   ]
  },
  {
   "cell_type": "code",
   "execution_count": 28,
   "metadata": {},
   "outputs": [
    {
     "data": {
      "text/html": [
       "<div>\n",
       "<style scoped>\n",
       "    .dataframe tbody tr th:only-of-type {\n",
       "        vertical-align: middle;\n",
       "    }\n",
       "\n",
       "    .dataframe tbody tr th {\n",
       "        vertical-align: top;\n",
       "    }\n",
       "\n",
       "    .dataframe thead th {\n",
       "        text-align: right;\n",
       "    }\n",
       "</style>\n",
       "<table border=\"1\" class=\"dataframe\">\n",
       "  <thead>\n",
       "    <tr style=\"text-align: right;\">\n",
       "      <th></th>\n",
       "      <th>published_date</th>\n",
       "      <th>headline</th>\n",
       "    </tr>\n",
       "  </thead>\n",
       "  <tbody>\n",
       "    <tr>\n",
       "      <th>0</th>\n",
       "      <td>2001-01-01</td>\n",
       "      <td>win over cena satisfying but defeating underta...</td>\n",
       "    </tr>\n",
       "    <tr>\n",
       "      <th>1</th>\n",
       "      <td>2001-01-02</td>\n",
       "      <td>Status quo will not be disturbed at Ayodhya; s...</td>\n",
       "    </tr>\n",
       "    <tr>\n",
       "      <th>2</th>\n",
       "      <td>2001-01-02</td>\n",
       "      <td>Fissures in Hurriyat over Pak visit</td>\n",
       "    </tr>\n",
       "    <tr>\n",
       "      <th>3</th>\n",
       "      <td>2001-01-02</td>\n",
       "      <td>America's unwanted heading for India?</td>\n",
       "    </tr>\n",
       "    <tr>\n",
       "      <th>4</th>\n",
       "      <td>2001-01-02</td>\n",
       "      <td>For bigwigs; it is destination Goa</td>\n",
       "    </tr>\n",
       "  </tbody>\n",
       "</table>\n",
       "</div>"
      ],
      "text/plain": [
       "  published_date                                           headline\n",
       "0     2001-01-01  win over cena satisfying but defeating underta...\n",
       "1     2001-01-02  Status quo will not be disturbed at Ayodhya; s...\n",
       "2     2001-01-02                Fissures in Hurriyat over Pak visit\n",
       "3     2001-01-02              America's unwanted heading for India?\n",
       "4     2001-01-02                 For bigwigs; it is destination Goa"
      ]
     },
     "execution_count": 28,
     "metadata": {},
     "output_type": "execute_result"
    }
   ],
   "source": [
    "news_data.head()"
   ]
  },
  {
   "cell_type": "markdown",
   "metadata": {},
   "source": [
    "# Accumulating the headlines having same dates."
   ]
  },
  {
   "cell_type": "code",
   "execution_count": 29,
   "metadata": {},
   "outputs": [],
   "source": [
    "dict_news = {}"
   ]
  },
  {
   "cell_type": "code",
   "execution_count": 30,
   "metadata": {},
   "outputs": [],
   "source": [
    "temp = news_data.loc[0, 'published_date']\n",
    "temp2 = str(news_data.loc[0, 'headline'])\n",
    "for x in range(1, len(news_data)):\n",
    "    if news_data.loc[x, 'published_date']==temp:\n",
    "        temp2 += '. ' + str(news_data.loc[x, 'headline'])\n",
    "    else:\n",
    "        dict_news[news_data.loc[x-1, 'published_date']] = temp2\n",
    "        temp2 = \"\"\n",
    "        temp = news_data.loc[x, 'published_date']"
   ]
  },
  {
   "cell_type": "code",
   "execution_count": 31,
   "metadata": {},
   "outputs": [
    {
     "data": {
      "text/plain": [
       "7079"
      ]
     },
     "execution_count": 31,
     "metadata": {},
     "output_type": "execute_result"
    }
   ],
   "source": [
    "len(dict_news)"
   ]
  },
  {
   "cell_type": "code",
   "execution_count": 32,
   "metadata": {},
   "outputs": [],
   "source": [
    "indexes = np.arange(0, len(dict_news))"
   ]
  },
  {
   "cell_type": "code",
   "execution_count": 33,
   "metadata": {},
   "outputs": [],
   "source": [
    "df_news = pd.DataFrame(indexes)"
   ]
  },
  {
   "cell_type": "code",
   "execution_count": 34,
   "metadata": {},
   "outputs": [
    {
     "data": {
      "text/html": [
       "<div>\n",
       "<style scoped>\n",
       "    .dataframe tbody tr th:only-of-type {\n",
       "        vertical-align: middle;\n",
       "    }\n",
       "\n",
       "    .dataframe tbody tr th {\n",
       "        vertical-align: top;\n",
       "    }\n",
       "\n",
       "    .dataframe thead th {\n",
       "        text-align: right;\n",
       "    }\n",
       "</style>\n",
       "<table border=\"1\" class=\"dataframe\">\n",
       "  <thead>\n",
       "    <tr style=\"text-align: right;\">\n",
       "      <th></th>\n",
       "      <th>0</th>\n",
       "    </tr>\n",
       "  </thead>\n",
       "  <tbody>\n",
       "    <tr>\n",
       "      <th>0</th>\n",
       "      <td>0</td>\n",
       "    </tr>\n",
       "    <tr>\n",
       "      <th>1</th>\n",
       "      <td>1</td>\n",
       "    </tr>\n",
       "    <tr>\n",
       "      <th>2</th>\n",
       "      <td>2</td>\n",
       "    </tr>\n",
       "    <tr>\n",
       "      <th>3</th>\n",
       "      <td>3</td>\n",
       "    </tr>\n",
       "    <tr>\n",
       "      <th>4</th>\n",
       "      <td>4</td>\n",
       "    </tr>\n",
       "  </tbody>\n",
       "</table>\n",
       "</div>"
      ],
      "text/plain": [
       "   0\n",
       "0  0\n",
       "1  1\n",
       "2  2\n",
       "3  3\n",
       "4  4"
      ]
     },
     "execution_count": 34,
     "metadata": {},
     "output_type": "execute_result"
    }
   ],
   "source": [
    "df_news.head()"
   ]
  },
  {
   "cell_type": "code",
   "execution_count": 35,
   "metadata": {},
   "outputs": [],
   "source": [
    "df_news['Published_Date'] = dict_news.keys()"
   ]
  },
  {
   "cell_type": "code",
   "execution_count": 36,
   "metadata": {},
   "outputs": [
    {
     "data": {
      "text/html": [
       "<div>\n",
       "<style scoped>\n",
       "    .dataframe tbody tr th:only-of-type {\n",
       "        vertical-align: middle;\n",
       "    }\n",
       "\n",
       "    .dataframe tbody tr th {\n",
       "        vertical-align: top;\n",
       "    }\n",
       "\n",
       "    .dataframe thead th {\n",
       "        text-align: right;\n",
       "    }\n",
       "</style>\n",
       "<table border=\"1\" class=\"dataframe\">\n",
       "  <thead>\n",
       "    <tr style=\"text-align: right;\">\n",
       "      <th></th>\n",
       "      <th>0</th>\n",
       "      <th>Published_Date</th>\n",
       "    </tr>\n",
       "  </thead>\n",
       "  <tbody>\n",
       "    <tr>\n",
       "      <th>0</th>\n",
       "      <td>0</td>\n",
       "      <td>2001-01-01</td>\n",
       "    </tr>\n",
       "    <tr>\n",
       "      <th>1</th>\n",
       "      <td>1</td>\n",
       "      <td>2001-01-02</td>\n",
       "    </tr>\n",
       "    <tr>\n",
       "      <th>2</th>\n",
       "      <td>2</td>\n",
       "      <td>2001-01-03</td>\n",
       "    </tr>\n",
       "    <tr>\n",
       "      <th>3</th>\n",
       "      <td>3</td>\n",
       "      <td>2001-01-04</td>\n",
       "    </tr>\n",
       "    <tr>\n",
       "      <th>4</th>\n",
       "      <td>4</td>\n",
       "      <td>2001-01-05</td>\n",
       "    </tr>\n",
       "  </tbody>\n",
       "</table>\n",
       "</div>"
      ],
      "text/plain": [
       "   0 Published_Date\n",
       "0  0     2001-01-01\n",
       "1  1     2001-01-02\n",
       "2  2     2001-01-03\n",
       "3  3     2001-01-04\n",
       "4  4     2001-01-05"
      ]
     },
     "execution_count": 36,
     "metadata": {},
     "output_type": "execute_result"
    }
   ],
   "source": [
    "df_news.head()"
   ]
  },
  {
   "cell_type": "code",
   "execution_count": 37,
   "metadata": {},
   "outputs": [],
   "source": [
    "l = []\n",
    "for i in dict_news.keys():\n",
    "    l.append(dict_news[i])"
   ]
  },
  {
   "cell_type": "code",
   "execution_count": 38,
   "metadata": {},
   "outputs": [
    {
     "data": {
      "text/plain": [
       "'win over cena satisfying but defeating undertaker bigger roman reigns'"
      ]
     },
     "execution_count": 38,
     "metadata": {},
     "output_type": "execute_result"
    }
   ],
   "source": [
    "l[0]"
   ]
  },
  {
   "cell_type": "code",
   "execution_count": 39,
   "metadata": {},
   "outputs": [
    {
     "data": {
      "text/plain": [
       "'. japan edge north korea in politically charged opener'"
      ]
     },
     "execution_count": 39,
     "metadata": {},
     "output_type": "execute_result"
    }
   ],
   "source": [
    "l[10]"
   ]
  },
  {
   "cell_type": "code",
   "execution_count": 40,
   "metadata": {},
   "outputs": [],
   "source": [
    "df_news['Headline'] = np.array(l)"
   ]
  },
  {
   "cell_type": "code",
   "execution_count": 41,
   "metadata": {},
   "outputs": [
    {
     "data": {
      "text/html": [
       "<div>\n",
       "<style scoped>\n",
       "    .dataframe tbody tr th:only-of-type {\n",
       "        vertical-align: middle;\n",
       "    }\n",
       "\n",
       "    .dataframe tbody tr th {\n",
       "        vertical-align: top;\n",
       "    }\n",
       "\n",
       "    .dataframe thead th {\n",
       "        text-align: right;\n",
       "    }\n",
       "</style>\n",
       "<table border=\"1\" class=\"dataframe\">\n",
       "  <thead>\n",
       "    <tr style=\"text-align: right;\">\n",
       "      <th></th>\n",
       "      <th>0</th>\n",
       "      <th>Published_Date</th>\n",
       "      <th>Headline</th>\n",
       "    </tr>\n",
       "  </thead>\n",
       "  <tbody>\n",
       "    <tr>\n",
       "      <th>0</th>\n",
       "      <td>0</td>\n",
       "      <td>2001-01-01</td>\n",
       "      <td>win over cena satisfying but defeating underta...</td>\n",
       "    </tr>\n",
       "    <tr>\n",
       "      <th>1</th>\n",
       "      <td>1</td>\n",
       "      <td>2001-01-02</td>\n",
       "      <td>. Fissures in Hurriyat over Pak visit. America...</td>\n",
       "    </tr>\n",
       "    <tr>\n",
       "      <th>2</th>\n",
       "      <td>2</td>\n",
       "      <td>2001-01-03</td>\n",
       "      <td>. Think again; Laxman tells Sangh Parivar. Hur...</td>\n",
       "    </tr>\n",
       "    <tr>\n",
       "      <th>3</th>\n",
       "      <td>3</td>\n",
       "      <td>2001-01-04</td>\n",
       "      <td>. Vajpayee gives big push to tech education; R...</td>\n",
       "    </tr>\n",
       "    <tr>\n",
       "      <th>4</th>\n",
       "      <td>4</td>\n",
       "      <td>2001-01-05</td>\n",
       "      <td>. Hawkings' day out. Light combat craft takes ...</td>\n",
       "    </tr>\n",
       "  </tbody>\n",
       "</table>\n",
       "</div>"
      ],
      "text/plain": [
       "   0 Published_Date                                           Headline\n",
       "0  0     2001-01-01  win over cena satisfying but defeating underta...\n",
       "1  1     2001-01-02  . Fissures in Hurriyat over Pak visit. America...\n",
       "2  2     2001-01-03  . Think again; Laxman tells Sangh Parivar. Hur...\n",
       "3  3     2001-01-04  . Vajpayee gives big push to tech education; R...\n",
       "4  4     2001-01-05  . Hawkings' day out. Light combat craft takes ..."
      ]
     },
     "execution_count": 41,
     "metadata": {},
     "output_type": "execute_result"
    }
   ],
   "source": [
    "df_news.head()"
   ]
  },
  {
   "cell_type": "code",
   "execution_count": 42,
   "metadata": {},
   "outputs": [],
   "source": [
    "df_news = df_news.drop(0, axis=1)"
   ]
  },
  {
   "cell_type": "markdown",
   "metadata": {},
   "source": [
    "# Performing Sentiment Analysis on News Dataset"
   ]
  },
  {
   "cell_type": "code",
   "execution_count": 43,
   "metadata": {},
   "outputs": [],
   "source": [
    "from textblob import TextBlob"
   ]
  },
  {
   "cell_type": "code",
   "execution_count": 44,
   "metadata": {},
   "outputs": [],
   "source": [
    "polarity = []\n",
    "subjectivity = []\n",
    "tuples = []\n",
    "for i in df_news['Headline'].values:\n",
    "    my_valence = TextBlob(i)\n",
    "    tuples.append(my_valence.sentiment)"
   ]
  },
  {
   "cell_type": "code",
   "execution_count": 45,
   "metadata": {},
   "outputs": [],
   "source": [
    "for i in tuples:\n",
    "    polarity.append(i[0])\n",
    "    subjectivity.append(i[1])"
   ]
  },
  {
   "cell_type": "code",
   "execution_count": 46,
   "metadata": {},
   "outputs": [],
   "source": [
    "df_news['Polarity'] = np.array(polarity)\n",
    "df_news['Subjectivity'] = np.array(subjectivity)"
   ]
  },
  {
   "cell_type": "code",
   "execution_count": 47,
   "metadata": {},
   "outputs": [
    {
     "data": {
      "text/html": [
       "<div>\n",
       "<style scoped>\n",
       "    .dataframe tbody tr th:only-of-type {\n",
       "        vertical-align: middle;\n",
       "    }\n",
       "\n",
       "    .dataframe tbody tr th {\n",
       "        vertical-align: top;\n",
       "    }\n",
       "\n",
       "    .dataframe thead th {\n",
       "        text-align: right;\n",
       "    }\n",
       "</style>\n",
       "<table border=\"1\" class=\"dataframe\">\n",
       "  <thead>\n",
       "    <tr style=\"text-align: right;\">\n",
       "      <th></th>\n",
       "      <th>Published_Date</th>\n",
       "      <th>Headline</th>\n",
       "      <th>Polarity</th>\n",
       "      <th>Subjectivity</th>\n",
       "    </tr>\n",
       "  </thead>\n",
       "  <tbody>\n",
       "    <tr>\n",
       "      <th>0</th>\n",
       "      <td>2001-01-01</td>\n",
       "      <td>win over cena satisfying but defeating underta...</td>\n",
       "      <td>0.433333</td>\n",
       "      <td>0.633333</td>\n",
       "    </tr>\n",
       "    <tr>\n",
       "      <th>1</th>\n",
       "      <td>2001-01-02</td>\n",
       "      <td>. Fissures in Hurriyat over Pak visit. America...</td>\n",
       "      <td>0.151333</td>\n",
       "      <td>0.282333</td>\n",
       "    </tr>\n",
       "    <tr>\n",
       "      <th>2</th>\n",
       "      <td>2001-01-03</td>\n",
       "      <td>. Think again; Laxman tells Sangh Parivar. Hur...</td>\n",
       "      <td>0.163636</td>\n",
       "      <td>0.363636</td>\n",
       "    </tr>\n",
       "    <tr>\n",
       "      <th>3</th>\n",
       "      <td>2001-01-04</td>\n",
       "      <td>. Vajpayee gives big push to tech education; R...</td>\n",
       "      <td>0.087961</td>\n",
       "      <td>0.446847</td>\n",
       "    </tr>\n",
       "    <tr>\n",
       "      <th>4</th>\n",
       "      <td>2001-01-05</td>\n",
       "      <td>. Hawkings' day out. Light combat craft takes ...</td>\n",
       "      <td>0.260401</td>\n",
       "      <td>0.473984</td>\n",
       "    </tr>\n",
       "  </tbody>\n",
       "</table>\n",
       "</div>"
      ],
      "text/plain": [
       "  Published_Date                                           Headline  Polarity  \\\n",
       "0     2001-01-01  win over cena satisfying but defeating underta...  0.433333   \n",
       "1     2001-01-02  . Fissures in Hurriyat over Pak visit. America...  0.151333   \n",
       "2     2001-01-03  . Think again; Laxman tells Sangh Parivar. Hur...  0.163636   \n",
       "3     2001-01-04  . Vajpayee gives big push to tech education; R...  0.087961   \n",
       "4     2001-01-05  . Hawkings' day out. Light combat craft takes ...  0.260401   \n",
       "\n",
       "   Subjectivity  \n",
       "0      0.633333  \n",
       "1      0.282333  \n",
       "2      0.363636  \n",
       "3      0.446847  \n",
       "4      0.473984  "
      ]
     },
     "execution_count": 47,
     "metadata": {},
     "output_type": "execute_result"
    }
   ],
   "source": [
    "df_news.head()"
   ]
  },
  {
   "cell_type": "code",
   "execution_count": 48,
   "metadata": {},
   "outputs": [],
   "source": [
    "temp = ['Positive', 'Negative', 'Neutral']\n",
    "temp1 = ['Factual', 'Public']\n",
    "polarity = []\n",
    "subjectivity = []\n",
    "for i in range(len(df_news)):\n",
    "    pol = df_news.iloc[i]['Polarity']\n",
    "    sub = df_news.iloc[i]['Subjectivity']\n",
    "    if pol>=0:\n",
    "        if pol>=0.2:\n",
    "            polarity.append(temp[0])\n",
    "        else:\n",
    "            polarity.append(temp[2])\n",
    "    else:\n",
    "        if pol<=-0.2:\n",
    "            polarity.append(temp[1])\n",
    "        else:\n",
    "            polarity.append(temp[2])\n",
    "    \n",
    "    if sub>=0.4:\n",
    "        subjectivity.append(temp1[1])\n",
    "    else:\n",
    "        subjectivity.append(temp1[0])"
   ]
  },
  {
   "cell_type": "code",
   "execution_count": 49,
   "metadata": {},
   "outputs": [],
   "source": [
    "df_news['Sentiment'] = polarity\n",
    "df_news['Opinion'] = subjectivity"
   ]
  },
  {
   "cell_type": "code",
   "execution_count": 50,
   "metadata": {},
   "outputs": [
    {
     "data": {
      "text/html": [
       "<div>\n",
       "<style scoped>\n",
       "    .dataframe tbody tr th:only-of-type {\n",
       "        vertical-align: middle;\n",
       "    }\n",
       "\n",
       "    .dataframe tbody tr th {\n",
       "        vertical-align: top;\n",
       "    }\n",
       "\n",
       "    .dataframe thead th {\n",
       "        text-align: right;\n",
       "    }\n",
       "</style>\n",
       "<table border=\"1\" class=\"dataframe\">\n",
       "  <thead>\n",
       "    <tr style=\"text-align: right;\">\n",
       "      <th></th>\n",
       "      <th>Published_Date</th>\n",
       "      <th>Headline</th>\n",
       "      <th>Polarity</th>\n",
       "      <th>Subjectivity</th>\n",
       "      <th>Sentiment</th>\n",
       "      <th>Opinion</th>\n",
       "    </tr>\n",
       "  </thead>\n",
       "  <tbody>\n",
       "    <tr>\n",
       "      <th>0</th>\n",
       "      <td>2001-01-01</td>\n",
       "      <td>win over cena satisfying but defeating underta...</td>\n",
       "      <td>0.433333</td>\n",
       "      <td>0.633333</td>\n",
       "      <td>Positive</td>\n",
       "      <td>Public</td>\n",
       "    </tr>\n",
       "    <tr>\n",
       "      <th>1</th>\n",
       "      <td>2001-01-02</td>\n",
       "      <td>. Fissures in Hurriyat over Pak visit. America...</td>\n",
       "      <td>0.151333</td>\n",
       "      <td>0.282333</td>\n",
       "      <td>Neutral</td>\n",
       "      <td>Factual</td>\n",
       "    </tr>\n",
       "    <tr>\n",
       "      <th>2</th>\n",
       "      <td>2001-01-03</td>\n",
       "      <td>. Think again; Laxman tells Sangh Parivar. Hur...</td>\n",
       "      <td>0.163636</td>\n",
       "      <td>0.363636</td>\n",
       "      <td>Neutral</td>\n",
       "      <td>Factual</td>\n",
       "    </tr>\n",
       "    <tr>\n",
       "      <th>3</th>\n",
       "      <td>2001-01-04</td>\n",
       "      <td>. Vajpayee gives big push to tech education; R...</td>\n",
       "      <td>0.087961</td>\n",
       "      <td>0.446847</td>\n",
       "      <td>Neutral</td>\n",
       "      <td>Public</td>\n",
       "    </tr>\n",
       "    <tr>\n",
       "      <th>4</th>\n",
       "      <td>2001-01-05</td>\n",
       "      <td>. Hawkings' day out. Light combat craft takes ...</td>\n",
       "      <td>0.260401</td>\n",
       "      <td>0.473984</td>\n",
       "      <td>Positive</td>\n",
       "      <td>Public</td>\n",
       "    </tr>\n",
       "  </tbody>\n",
       "</table>\n",
       "</div>"
      ],
      "text/plain": [
       "  Published_Date                                           Headline  Polarity  \\\n",
       "0     2001-01-01  win over cena satisfying but defeating underta...  0.433333   \n",
       "1     2001-01-02  . Fissures in Hurriyat over Pak visit. America...  0.151333   \n",
       "2     2001-01-03  . Think again; Laxman tells Sangh Parivar. Hur...  0.163636   \n",
       "3     2001-01-04  . Vajpayee gives big push to tech education; R...  0.087961   \n",
       "4     2001-01-05  . Hawkings' day out. Light combat craft takes ...  0.260401   \n",
       "\n",
       "   Subjectivity Sentiment  Opinion  \n",
       "0      0.633333  Positive   Public  \n",
       "1      0.282333   Neutral  Factual  \n",
       "2      0.363636   Neutral  Factual  \n",
       "3      0.446847   Neutral   Public  \n",
       "4      0.473984  Positive   Public  "
      ]
     },
     "execution_count": 50,
     "metadata": {},
     "output_type": "execute_result"
    }
   ],
   "source": [
    "df_news.head()"
   ]
  },
  {
   "cell_type": "code",
   "execution_count": 51,
   "metadata": {},
   "outputs": [
    {
     "data": {
      "text/plain": [
       "7079"
      ]
     },
     "execution_count": 51,
     "metadata": {},
     "output_type": "execute_result"
    }
   ],
   "source": [
    "len(df_news)"
   ]
  },
  {
   "cell_type": "code",
   "execution_count": 52,
   "metadata": {},
   "outputs": [
    {
     "data": {
      "image/png": "[encoded data removed]",
      "text/plain": [
       "<Figure size 432x288 with 1 Axes>"
      ]
     },
     "metadata": {},
     "output_type": "display_data"
    }
   ],
   "source": [
    "plt.figure(figsize=(6,4))\n",
    "df_news['Subjectivity'].hist()\n",
    "plt.show()"
   ]
  },
  {
   "cell_type": "code",
   "execution_count": 53,
   "metadata": {},
   "outputs": [
    {
     "data": {
      "image/png": "[encoded data removed]",
      "text/plain": [
       "<Figure size 432x288 with 1 Axes>"
      ]
     },
     "metadata": {},
     "output_type": "display_data"
    }
   ],
   "source": [
    "plt.figure(figsize=(6,4))\n",
    "df_news['Polarity'].hist()\n",
    "plt.show()"
   ]
  },
  {
   "cell_type": "code",
   "execution_count": 54,
   "metadata": {},
   "outputs": [],
   "source": [
    "import seaborn as sns"
   ]
  },
  {
   "cell_type": "code",
   "execution_count": 55,
   "metadata": {},
   "outputs": [
    {
     "data": {
      "text/plain": [
       "<matplotlib.axes._subplots.AxesSubplot at 0x249bacd4bb0>"
      ]
     },
     "execution_count": 55,
     "metadata": {},
     "output_type": "execute_result"
    },
    {
     "data": {
      "image/png": "[encoded data removed]",
      "text/plain": [
       "<Figure size 432x288 with 1 Axes>"
      ]
     },
     "metadata": {},
     "output_type": "display_data"
    }
   ],
   "source": [
    "sns.countplot(df_news['Opinion'])"
   ]
  },
  {
   "cell_type": "markdown",
   "metadata": {},
   "source": [
    "# Stocks Data: Pre-processing and EDA"
   ]
  },
  {
   "cell_type": "code",
   "execution_count": 56,
   "metadata": {},
   "outputs": [],
   "source": [
    "stocks = pd.read_csv(r'C:\\Users\\Hiu\\Desktop\\Task 3\\GOOG.csv')"
   ]
  },
  {
   "cell_type": "code",
   "execution_count": 57,
   "metadata": {},
   "outputs": [
    {
     "data": {
      "text/html": [
       "<div>\n",
       "<style scoped>\n",
       "    .dataframe tbody tr th:only-of-type {\n",
       "        vertical-align: middle;\n",
       "    }\n",
       "\n",
       "    .dataframe tbody tr th {\n",
       "        vertical-align: top;\n",
       "    }\n",
       "\n",
       "    .dataframe thead th {\n",
       "        text-align: right;\n",
       "    }\n",
       "</style>\n",
       "<table border=\"1\" class=\"dataframe\">\n",
       "  <thead>\n",
       "    <tr style=\"text-align: right;\">\n",
       "      <th></th>\n",
       "      <th>Date</th>\n",
       "      <th>Open</th>\n",
       "      <th>High</th>\n",
       "      <th>Low</th>\n",
       "      <th>Close</th>\n",
       "      <th>Adj Close</th>\n",
       "      <th>Volume</th>\n",
       "    </tr>\n",
       "  </thead>\n",
       "  <tbody>\n",
       "    <tr>\n",
       "      <th>0</th>\n",
       "      <td>2010-01-04</td>\n",
       "      <td>312.304413</td>\n",
       "      <td>313.579620</td>\n",
       "      <td>310.954468</td>\n",
       "      <td>312.204773</td>\n",
       "      <td>312.204773</td>\n",
       "      <td>3927000</td>\n",
       "    </tr>\n",
       "    <tr>\n",
       "      <th>1</th>\n",
       "      <td>2010-01-05</td>\n",
       "      <td>312.418976</td>\n",
       "      <td>312.747742</td>\n",
       "      <td>309.609497</td>\n",
       "      <td>310.829926</td>\n",
       "      <td>310.829926</td>\n",
       "      <td>6031900</td>\n",
       "    </tr>\n",
       "    <tr>\n",
       "      <th>2</th>\n",
       "      <td>2010-01-06</td>\n",
       "      <td>311.761444</td>\n",
       "      <td>311.761444</td>\n",
       "      <td>302.047852</td>\n",
       "      <td>302.994293</td>\n",
       "      <td>302.994293</td>\n",
       "      <td>7987100</td>\n",
       "    </tr>\n",
       "    <tr>\n",
       "      <th>3</th>\n",
       "      <td>2010-01-07</td>\n",
       "      <td>303.562164</td>\n",
       "      <td>303.861053</td>\n",
       "      <td>295.218445</td>\n",
       "      <td>295.940735</td>\n",
       "      <td>295.940735</td>\n",
       "      <td>12876600</td>\n",
       "    </tr>\n",
       "    <tr>\n",
       "      <th>4</th>\n",
       "      <td>2010-01-08</td>\n",
       "      <td>294.894653</td>\n",
       "      <td>300.498657</td>\n",
       "      <td>293.455048</td>\n",
       "      <td>299.885956</td>\n",
       "      <td>299.885956</td>\n",
       "      <td>9483900</td>\n",
       "    </tr>\n",
       "  </tbody>\n",
       "</table>\n",
       "</div>"
      ],
      "text/plain": [
       "         Date        Open        High         Low       Close   Adj Close  \\\n",
       "0  2010-01-04  312.304413  313.579620  310.954468  312.204773  312.204773   \n",
       "1  2010-01-05  312.418976  312.747742  309.609497  310.829926  310.829926   \n",
       "2  2010-01-06  311.761444  311.761444  302.047852  302.994293  302.994293   \n",
       "3  2010-01-07  303.562164  303.861053  295.218445  295.940735  295.940735   \n",
       "4  2010-01-08  294.894653  300.498657  293.455048  299.885956  299.885956   \n",
       "\n",
       "     Volume  \n",
       "0   3927000  \n",
       "1   6031900  \n",
       "2   7987100  \n",
       "3  12876600  \n",
       "4   9483900  "
      ]
     },
     "execution_count": 57,
     "metadata": {},
     "output_type": "execute_result"
    }
   ],
   "source": [
    "stocks.head()"
   ]
  },
  {
   "cell_type": "code",
   "execution_count": 58,
   "metadata": {},
   "outputs": [
    {
     "data": {
      "text/plain": [
       "2737"
      ]
     },
     "execution_count": 58,
     "metadata": {},
     "output_type": "execute_result"
    }
   ],
   "source": [
    "len(stocks)"
   ]
  },
  {
   "cell_type": "code",
   "execution_count": 59,
   "metadata": {},
   "outputs": [
    {
     "name": "stdout",
     "output_type": "stream",
     "text": [
      "<class 'pandas.core.frame.DataFrame'>\n",
      "RangeIndex: 2737 entries, 0 to 2736\n",
      "Data columns (total 7 columns):\n",
      " #   Column     Non-Null Count  Dtype  \n",
      "---  ------     --------------  -----  \n",
      " 0   Date       2737 non-null   object \n",
      " 1   Open       2737 non-null   float64\n",
      " 2   High       2737 non-null   float64\n",
      " 3   Low        2737 non-null   float64\n",
      " 4   Close      2737 non-null   float64\n",
      " 5   Adj Close  2737 non-null   float64\n",
      " 6   Volume     2737 non-null   int64  \n",
      "dtypes: float64(5), int64(1), object(1)\n",
      "memory usage: 149.8+ KB\n"
     ]
    }
   ],
   "source": [
    "stocks.info()"
   ]
  },
  {
   "cell_type": "code",
   "execution_count": 60,
   "metadata": {},
   "outputs": [
    {
     "data": {
      "text/html": [
       "<div>\n",
       "<style scoped>\n",
       "    .dataframe tbody tr th:only-of-type {\n",
       "        vertical-align: middle;\n",
       "    }\n",
       "\n",
       "    .dataframe tbody tr th {\n",
       "        vertical-align: top;\n",
       "    }\n",
       "\n",
       "    .dataframe thead th {\n",
       "        text-align: right;\n",
       "    }\n",
       "</style>\n",
       "<table border=\"1\" class=\"dataframe\">\n",
       "  <thead>\n",
       "    <tr style=\"text-align: right;\">\n",
       "      <th></th>\n",
       "      <th>Open</th>\n",
       "      <th>High</th>\n",
       "      <th>Low</th>\n",
       "      <th>Close</th>\n",
       "      <th>Adj Close</th>\n",
       "      <th>Volume</th>\n",
       "    </tr>\n",
       "  </thead>\n",
       "  <tbody>\n",
       "    <tr>\n",
       "      <th>count</th>\n",
       "      <td>2737.000000</td>\n",
       "      <td>2737.000000</td>\n",
       "      <td>2737.000000</td>\n",
       "      <td>2737.000000</td>\n",
       "      <td>2737.000000</td>\n",
       "      <td>2.737000e+03</td>\n",
       "    </tr>\n",
       "    <tr>\n",
       "      <th>mean</th>\n",
       "      <td>707.977913</td>\n",
       "      <td>714.513030</td>\n",
       "      <td>701.407487</td>\n",
       "      <td>708.175977</td>\n",
       "      <td>708.175977</td>\n",
       "      <td>3.191660e+06</td>\n",
       "    </tr>\n",
       "    <tr>\n",
       "      <th>std</th>\n",
       "      <td>381.940155</td>\n",
       "      <td>386.377773</td>\n",
       "      <td>378.126731</td>\n",
       "      <td>382.447984</td>\n",
       "      <td>382.447984</td>\n",
       "      <td>2.656510e+06</td>\n",
       "    </tr>\n",
       "    <tr>\n",
       "      <th>min</th>\n",
       "      <td>218.336624</td>\n",
       "      <td>220.314209</td>\n",
       "      <td>216.005356</td>\n",
       "      <td>217.220810</td>\n",
       "      <td>217.220810</td>\n",
       "      <td>7.900000e+03</td>\n",
       "    </tr>\n",
       "    <tr>\n",
       "      <th>25%</th>\n",
       "      <td>336.488770</td>\n",
       "      <td>339.228485</td>\n",
       "      <td>334.595856</td>\n",
       "      <td>337.385406</td>\n",
       "      <td>337.385406</td>\n",
       "      <td>1.430200e+06</td>\n",
       "    </tr>\n",
       "    <tr>\n",
       "      <th>50%</th>\n",
       "      <td>592.279968</td>\n",
       "      <td>598.008179</td>\n",
       "      <td>588.484192</td>\n",
       "      <td>593.111633</td>\n",
       "      <td>593.111633</td>\n",
       "      <td>2.188200e+06</td>\n",
       "    </tr>\n",
       "    <tr>\n",
       "      <th>75%</th>\n",
       "      <td>1046.719971</td>\n",
       "      <td>1058.369995</td>\n",
       "      <td>1032.521973</td>\n",
       "      <td>1044.410034</td>\n",
       "      <td>1044.410034</td>\n",
       "      <td>4.265200e+06</td>\n",
       "    </tr>\n",
       "    <tr>\n",
       "      <th>max</th>\n",
       "      <td>1790.900024</td>\n",
       "      <td>1818.060059</td>\n",
       "      <td>1760.020020</td>\n",
       "      <td>1777.020020</td>\n",
       "      <td>1777.020020</td>\n",
       "      <td>2.976060e+07</td>\n",
       "    </tr>\n",
       "  </tbody>\n",
       "</table>\n",
       "</div>"
      ],
      "text/plain": [
       "              Open         High          Low        Close    Adj Close  \\\n",
       "count  2737.000000  2737.000000  2737.000000  2737.000000  2737.000000   \n",
       "mean    707.977913   714.513030   701.407487   708.175977   708.175977   \n",
       "std     381.940155   386.377773   378.126731   382.447984   382.447984   \n",
       "min     218.336624   220.314209   216.005356   217.220810   217.220810   \n",
       "25%     336.488770   339.228485   334.595856   337.385406   337.385406   \n",
       "50%     592.279968   598.008179   588.484192   593.111633   593.111633   \n",
       "75%    1046.719971  1058.369995  1032.521973  1044.410034  1044.410034   \n",
       "max    1790.900024  1818.060059  1760.020020  1777.020020  1777.020020   \n",
       "\n",
       "             Volume  \n",
       "count  2.737000e+03  \n",
       "mean   3.191660e+06  \n",
       "std    2.656510e+06  \n",
       "min    7.900000e+03  \n",
       "25%    1.430200e+06  \n",
       "50%    2.188200e+06  \n",
       "75%    4.265200e+06  \n",
       "max    2.976060e+07  "
      ]
     },
     "execution_count": 60,
     "metadata": {},
     "output_type": "execute_result"
    }
   ],
   "source": [
    "stocks.describe()"
   ]
  },
  {
   "cell_type": "code",
   "execution_count": 61,
   "metadata": {},
   "outputs": [],
   "source": [
    "stocks['HL_pct']=((stocks['High']-stocks['Low'])/stocks['Low'])*100\n",
    "stocks['PCT_change']=((stocks['Close']-stocks['Open'])/stocks['Open'])*100"
   ]
  },
  {
   "cell_type": "code",
   "execution_count": 62,
   "metadata": {},
   "outputs": [],
   "source": [
    "stocks = stocks.drop(['Open','High','Close','Low'], axis=1)"
   ]
  },
  {
   "cell_type": "code",
   "execution_count": 63,
   "metadata": {},
   "outputs": [
    {
     "data": {
      "text/html": [
       "<div>\n",
       "<style scoped>\n",
       "    .dataframe tbody tr th:only-of-type {\n",
       "        vertical-align: middle;\n",
       "    }\n",
       "\n",
       "    .dataframe tbody tr th {\n",
       "        vertical-align: top;\n",
       "    }\n",
       "\n",
       "    .dataframe thead th {\n",
       "        text-align: right;\n",
       "    }\n",
       "</style>\n",
       "<table border=\"1\" class=\"dataframe\">\n",
       "  <thead>\n",
       "    <tr style=\"text-align: right;\">\n",
       "      <th></th>\n",
       "      <th>Date</th>\n",
       "      <th>Adj Close</th>\n",
       "      <th>Volume</th>\n",
       "      <th>HL_pct</th>\n",
       "      <th>PCT_change</th>\n",
       "    </tr>\n",
       "  </thead>\n",
       "  <tbody>\n",
       "    <tr>\n",
       "      <th>0</th>\n",
       "      <td>2010-01-04</td>\n",
       "      <td>312.204773</td>\n",
       "      <td>3927000</td>\n",
       "      <td>0.844224</td>\n",
       "      <td>-0.031905</td>\n",
       "    </tr>\n",
       "    <tr>\n",
       "      <th>1</th>\n",
       "      <td>2010-01-05</td>\n",
       "      <td>310.829926</td>\n",
       "      <td>6031900</td>\n",
       "      <td>1.013614</td>\n",
       "      <td>-0.508628</td>\n",
       "    </tr>\n",
       "    <tr>\n",
       "      <th>2</th>\n",
       "      <td>2010-01-06</td>\n",
       "      <td>302.994293</td>\n",
       "      <td>7987100</td>\n",
       "      <td>3.215912</td>\n",
       "      <td>-2.812134</td>\n",
       "    </tr>\n",
       "    <tr>\n",
       "      <th>3</th>\n",
       "      <td>2010-01-07</td>\n",
       "      <td>295.940735</td>\n",
       "      <td>12876600</td>\n",
       "      <td>2.927530</td>\n",
       "      <td>-2.510665</td>\n",
       "    </tr>\n",
       "    <tr>\n",
       "      <th>4</th>\n",
       "      <td>2010-01-08</td>\n",
       "      <td>299.885956</td>\n",
       "      <td>9483900</td>\n",
       "      <td>2.400234</td>\n",
       "      <td>1.692572</td>\n",
       "    </tr>\n",
       "  </tbody>\n",
       "</table>\n",
       "</div>"
      ],
      "text/plain": [
       "         Date   Adj Close    Volume    HL_pct  PCT_change\n",
       "0  2010-01-04  312.204773   3927000  0.844224   -0.031905\n",
       "1  2010-01-05  310.829926   6031900  1.013614   -0.508628\n",
       "2  2010-01-06  302.994293   7987100  3.215912   -2.812134\n",
       "3  2010-01-07  295.940735  12876600  2.927530   -2.510665\n",
       "4  2010-01-08  299.885956   9483900  2.400234    1.692572"
      ]
     },
     "execution_count": 63,
     "metadata": {},
     "output_type": "execute_result"
    }
   ],
   "source": [
    "stocks.head()"
   ]
  },
  {
   "cell_type": "code",
   "execution_count": 64,
   "metadata": {},
   "outputs": [],
   "source": [
    "stocks['Date'] = pd.to_datetime(stocks['Date'])"
   ]
  },
  {
   "cell_type": "code",
   "execution_count": 65,
   "metadata": {},
   "outputs": [
    {
     "data": {
      "text/html": [
       "<div>\n",
       "<style scoped>\n",
       "    .dataframe tbody tr th:only-of-type {\n",
       "        vertical-align: middle;\n",
       "    }\n",
       "\n",
       "    .dataframe tbody tr th {\n",
       "        vertical-align: top;\n",
       "    }\n",
       "\n",
       "    .dataframe thead th {\n",
       "        text-align: right;\n",
       "    }\n",
       "</style>\n",
       "<table border=\"1\" class=\"dataframe\">\n",
       "  <thead>\n",
       "    <tr style=\"text-align: right;\">\n",
       "      <th></th>\n",
       "      <th>Date</th>\n",
       "      <th>Adj Close</th>\n",
       "      <th>Volume</th>\n",
       "      <th>HL_pct</th>\n",
       "      <th>PCT_change</th>\n",
       "    </tr>\n",
       "  </thead>\n",
       "  <tbody>\n",
       "    <tr>\n",
       "      <th>0</th>\n",
       "      <td>2010-01-04</td>\n",
       "      <td>312.204773</td>\n",
       "      <td>3927000</td>\n",
       "      <td>0.844224</td>\n",
       "      <td>-0.031905</td>\n",
       "    </tr>\n",
       "    <tr>\n",
       "      <th>1</th>\n",
       "      <td>2010-01-05</td>\n",
       "      <td>310.829926</td>\n",
       "      <td>6031900</td>\n",
       "      <td>1.013614</td>\n",
       "      <td>-0.508628</td>\n",
       "    </tr>\n",
       "    <tr>\n",
       "      <th>2</th>\n",
       "      <td>2010-01-06</td>\n",
       "      <td>302.994293</td>\n",
       "      <td>7987100</td>\n",
       "      <td>3.215912</td>\n",
       "      <td>-2.812134</td>\n",
       "    </tr>\n",
       "    <tr>\n",
       "      <th>3</th>\n",
       "      <td>2010-01-07</td>\n",
       "      <td>295.940735</td>\n",
       "      <td>12876600</td>\n",
       "      <td>2.927530</td>\n",
       "      <td>-2.510665</td>\n",
       "    </tr>\n",
       "    <tr>\n",
       "      <th>4</th>\n",
       "      <td>2010-01-08</td>\n",
       "      <td>299.885956</td>\n",
       "      <td>9483900</td>\n",
       "      <td>2.400234</td>\n",
       "      <td>1.692572</td>\n",
       "    </tr>\n",
       "  </tbody>\n",
       "</table>\n",
       "</div>"
      ],
      "text/plain": [
       "        Date   Adj Close    Volume    HL_pct  PCT_change\n",
       "0 2010-01-04  312.204773   3927000  0.844224   -0.031905\n",
       "1 2010-01-05  310.829926   6031900  1.013614   -0.508628\n",
       "2 2010-01-06  302.994293   7987100  3.215912   -2.812134\n",
       "3 2010-01-07  295.940735  12876600  2.927530   -2.510665\n",
       "4 2010-01-08  299.885956   9483900  2.400234    1.692572"
      ]
     },
     "execution_count": 65,
     "metadata": {},
     "output_type": "execute_result"
    }
   ],
   "source": [
    "stocks.head()"
   ]
  },
  {
   "cell_type": "code",
   "execution_count": 66,
   "metadata": {},
   "outputs": [],
   "source": [
    "df_news.columns = ['Date', 'Headline', 'Polarity', 'Subjectivity', 'Sentiment', 'Opinion']"
   ]
  },
  {
   "cell_type": "markdown",
   "metadata": {},
   "source": [
    "# Merging the News and Stocks Datasets on the basis of Dates"
   ]
  },
  {
   "cell_type": "code",
   "execution_count": 67,
   "metadata": {},
   "outputs": [],
   "source": [
    "merge_data = df_news.merge(stocks, how='inner', on='Date', left_index = True)"
   ]
  },
  {
   "cell_type": "code",
   "execution_count": 68,
   "metadata": {},
   "outputs": [
    {
     "data": {
      "text/html": [
       "<div>\n",
       "<style scoped>\n",
       "    .dataframe tbody tr th:only-of-type {\n",
       "        vertical-align: middle;\n",
       "    }\n",
       "\n",
       "    .dataframe tbody tr th {\n",
       "        vertical-align: top;\n",
       "    }\n",
       "\n",
       "    .dataframe thead th {\n",
       "        text-align: right;\n",
       "    }\n",
       "</style>\n",
       "<table border=\"1\" class=\"dataframe\">\n",
       "  <thead>\n",
       "    <tr style=\"text-align: right;\">\n",
       "      <th></th>\n",
       "      <th>Date</th>\n",
       "      <th>Headline</th>\n",
       "      <th>Polarity</th>\n",
       "      <th>Subjectivity</th>\n",
       "      <th>Sentiment</th>\n",
       "      <th>Opinion</th>\n",
       "      <th>Adj Close</th>\n",
       "      <th>Volume</th>\n",
       "      <th>HL_pct</th>\n",
       "      <th>PCT_change</th>\n",
       "    </tr>\n",
       "  </thead>\n",
       "  <tbody>\n",
       "    <tr>\n",
       "      <th>0</th>\n",
       "      <td>2010-01-04</td>\n",
       "      <td>. Chor Bazaari top song of 2009. 2010...movies...</td>\n",
       "      <td>0.048007</td>\n",
       "      <td>0.465905</td>\n",
       "      <td>Neutral</td>\n",
       "      <td>Public</td>\n",
       "      <td>312.204773</td>\n",
       "      <td>3927000</td>\n",
       "      <td>0.844224</td>\n",
       "      <td>-0.031905</td>\n",
       "    </tr>\n",
       "    <tr>\n",
       "      <th>1</th>\n",
       "      <td>2010-01-05</td>\n",
       "      <td>. MJ's new track leaked on internet. Ranbir's ...</td>\n",
       "      <td>0.011382</td>\n",
       "      <td>0.418044</td>\n",
       "      <td>Neutral</td>\n",
       "      <td>Public</td>\n",
       "      <td>310.829926</td>\n",
       "      <td>6031900</td>\n",
       "      <td>1.013614</td>\n",
       "      <td>-0.508628</td>\n",
       "    </tr>\n",
       "    <tr>\n",
       "      <th>2</th>\n",
       "      <td>2010-01-06</td>\n",
       "      <td>. Can a man and woman be just friends?. Aamir;...</td>\n",
       "      <td>0.050457</td>\n",
       "      <td>0.427033</td>\n",
       "      <td>Neutral</td>\n",
       "      <td>Public</td>\n",
       "      <td>302.994293</td>\n",
       "      <td>7987100</td>\n",
       "      <td>3.215912</td>\n",
       "      <td>-2.812134</td>\n",
       "    </tr>\n",
       "    <tr>\n",
       "      <th>3</th>\n",
       "      <td>2010-01-07</td>\n",
       "      <td>. Rahman's going green. Fans; forgive Aamir: C...</td>\n",
       "      <td>0.037038</td>\n",
       "      <td>0.404291</td>\n",
       "      <td>Neutral</td>\n",
       "      <td>Public</td>\n",
       "      <td>295.940735</td>\n",
       "      <td>12876600</td>\n",
       "      <td>2.927530</td>\n",
       "      <td>-2.510665</td>\n",
       "    </tr>\n",
       "    <tr>\n",
       "      <th>4</th>\n",
       "      <td>2010-01-08</td>\n",
       "      <td>. Bicholim fire cell saved 79 lives in '09. Se...</td>\n",
       "      <td>0.032007</td>\n",
       "      <td>0.379068</td>\n",
       "      <td>Neutral</td>\n",
       "      <td>Factual</td>\n",
       "      <td>299.885956</td>\n",
       "      <td>9483900</td>\n",
       "      <td>2.400234</td>\n",
       "      <td>1.692572</td>\n",
       "    </tr>\n",
       "  </tbody>\n",
       "</table>\n",
       "</div>"
      ],
      "text/plain": [
       "        Date                                           Headline  Polarity  \\\n",
       "0 2010-01-04  . Chor Bazaari top song of 2009. 2010...movies...  0.048007   \n",
       "1 2010-01-05  . MJ's new track leaked on internet. Ranbir's ...  0.011382   \n",
       "2 2010-01-06  . Can a man and woman be just friends?. Aamir;...  0.050457   \n",
       "3 2010-01-07  . Rahman's going green. Fans; forgive Aamir: C...  0.037038   \n",
       "4 2010-01-08  . Bicholim fire cell saved 79 lives in '09. Se...  0.032007   \n",
       "\n",
       "   Subjectivity Sentiment  Opinion   Adj Close    Volume    HL_pct  PCT_change  \n",
       "0      0.465905   Neutral   Public  312.204773   3927000  0.844224   -0.031905  \n",
       "1      0.418044   Neutral   Public  310.829926   6031900  1.013614   -0.508628  \n",
       "2      0.427033   Neutral   Public  302.994293   7987100  3.215912   -2.812134  \n",
       "3      0.404291   Neutral   Public  295.940735  12876600  2.927530   -2.510665  \n",
       "4      0.379068   Neutral  Factual  299.885956   9483900  2.400234    1.692572  "
      ]
     },
     "execution_count": 68,
     "metadata": {},
     "output_type": "execute_result"
    }
   ],
   "source": [
    "merge_data.head()"
   ]
  },
  {
   "cell_type": "code",
   "execution_count": 69,
   "metadata": {},
   "outputs": [],
   "source": [
    "merge_data = merge_data.reset_index()"
   ]
  },
  {
   "cell_type": "code",
   "execution_count": 70,
   "metadata": {},
   "outputs": [
    {
     "data": {
      "text/html": [
       "<div>\n",
       "<style scoped>\n",
       "    .dataframe tbody tr th:only-of-type {\n",
       "        vertical-align: middle;\n",
       "    }\n",
       "\n",
       "    .dataframe tbody tr th {\n",
       "        vertical-align: top;\n",
       "    }\n",
       "\n",
       "    .dataframe thead th {\n",
       "        text-align: right;\n",
       "    }\n",
       "</style>\n",
       "<table border=\"1\" class=\"dataframe\">\n",
       "  <thead>\n",
       "    <tr style=\"text-align: right;\">\n",
       "      <th></th>\n",
       "      <th>index</th>\n",
       "      <th>Date</th>\n",
       "      <th>Headline</th>\n",
       "      <th>Polarity</th>\n",
       "      <th>Subjectivity</th>\n",
       "      <th>Sentiment</th>\n",
       "      <th>Opinion</th>\n",
       "      <th>Adj Close</th>\n",
       "      <th>Volume</th>\n",
       "      <th>HL_pct</th>\n",
       "      <th>PCT_change</th>\n",
       "    </tr>\n",
       "  </thead>\n",
       "  <tbody>\n",
       "    <tr>\n",
       "      <th>0</th>\n",
       "      <td>0</td>\n",
       "      <td>2010-01-04</td>\n",
       "      <td>. Chor Bazaari top song of 2009. 2010...movies...</td>\n",
       "      <td>0.048007</td>\n",
       "      <td>0.465905</td>\n",
       "      <td>Neutral</td>\n",
       "      <td>Public</td>\n",
       "      <td>312.204773</td>\n",
       "      <td>3927000</td>\n",
       "      <td>0.844224</td>\n",
       "      <td>-0.031905</td>\n",
       "    </tr>\n",
       "    <tr>\n",
       "      <th>1</th>\n",
       "      <td>1</td>\n",
       "      <td>2010-01-05</td>\n",
       "      <td>. MJ's new track leaked on internet. Ranbir's ...</td>\n",
       "      <td>0.011382</td>\n",
       "      <td>0.418044</td>\n",
       "      <td>Neutral</td>\n",
       "      <td>Public</td>\n",
       "      <td>310.829926</td>\n",
       "      <td>6031900</td>\n",
       "      <td>1.013614</td>\n",
       "      <td>-0.508628</td>\n",
       "    </tr>\n",
       "    <tr>\n",
       "      <th>2</th>\n",
       "      <td>2</td>\n",
       "      <td>2010-01-06</td>\n",
       "      <td>. Can a man and woman be just friends?. Aamir;...</td>\n",
       "      <td>0.050457</td>\n",
       "      <td>0.427033</td>\n",
       "      <td>Neutral</td>\n",
       "      <td>Public</td>\n",
       "      <td>302.994293</td>\n",
       "      <td>7987100</td>\n",
       "      <td>3.215912</td>\n",
       "      <td>-2.812134</td>\n",
       "    </tr>\n",
       "    <tr>\n",
       "      <th>3</th>\n",
       "      <td>3</td>\n",
       "      <td>2010-01-07</td>\n",
       "      <td>. Rahman's going green. Fans; forgive Aamir: C...</td>\n",
       "      <td>0.037038</td>\n",
       "      <td>0.404291</td>\n",
       "      <td>Neutral</td>\n",
       "      <td>Public</td>\n",
       "      <td>295.940735</td>\n",
       "      <td>12876600</td>\n",
       "      <td>2.927530</td>\n",
       "      <td>-2.510665</td>\n",
       "    </tr>\n",
       "    <tr>\n",
       "      <th>4</th>\n",
       "      <td>4</td>\n",
       "      <td>2010-01-08</td>\n",
       "      <td>. Bicholim fire cell saved 79 lives in '09. Se...</td>\n",
       "      <td>0.032007</td>\n",
       "      <td>0.379068</td>\n",
       "      <td>Neutral</td>\n",
       "      <td>Factual</td>\n",
       "      <td>299.885956</td>\n",
       "      <td>9483900</td>\n",
       "      <td>2.400234</td>\n",
       "      <td>1.692572</td>\n",
       "    </tr>\n",
       "  </tbody>\n",
       "</table>\n",
       "</div>"
      ],
      "text/plain": [
       "   index       Date                                           Headline  \\\n",
       "0      0 2010-01-04  . Chor Bazaari top song of 2009. 2010...movies...   \n",
       "1      1 2010-01-05  . MJ's new track leaked on internet. Ranbir's ...   \n",
       "2      2 2010-01-06  . Can a man and woman be just friends?. Aamir;...   \n",
       "3      3 2010-01-07  . Rahman's going green. Fans; forgive Aamir: C...   \n",
       "4      4 2010-01-08  . Bicholim fire cell saved 79 lives in '09. Se...   \n",
       "\n",
       "   Polarity  Subjectivity Sentiment  Opinion   Adj Close    Volume    HL_pct  \\\n",
       "0  0.048007      0.465905   Neutral   Public  312.204773   3927000  0.844224   \n",
       "1  0.011382      0.418044   Neutral   Public  310.829926   6031900  1.013614   \n",
       "2  0.050457      0.427033   Neutral   Public  302.994293   7987100  3.215912   \n",
       "3  0.037038      0.404291   Neutral   Public  295.940735  12876600  2.927530   \n",
       "4  0.032007      0.379068   Neutral  Factual  299.885956   9483900  2.400234   \n",
       "\n",
       "   PCT_change  \n",
       "0   -0.031905  \n",
       "1   -0.508628  \n",
       "2   -2.812134  \n",
       "3   -2.510665  \n",
       "4    1.692572  "
      ]
     },
     "execution_count": 70,
     "metadata": {},
     "output_type": "execute_result"
    }
   ],
   "source": [
    "merge_data.head()"
   ]
  },
  {
   "cell_type": "code",
   "execution_count": 71,
   "metadata": {},
   "outputs": [
    {
     "name": "stdout",
     "output_type": "stream",
     "text": [
      "<class 'pandas.core.frame.DataFrame'>\n",
      "RangeIndex: 2640 entries, 0 to 2639\n",
      "Data columns (total 11 columns):\n",
      " #   Column        Non-Null Count  Dtype         \n",
      "---  ------        --------------  -----         \n",
      " 0   index         2640 non-null   int64         \n",
      " 1   Date          2640 non-null   datetime64[ns]\n",
      " 2   Headline      2640 non-null   object        \n",
      " 3   Polarity      2640 non-null   float64       \n",
      " 4   Subjectivity  2640 non-null   float64       \n",
      " 5   Sentiment     2640 non-null   object        \n",
      " 6   Opinion       2640 non-null   object        \n",
      " 7   Adj Close     2640 non-null   float64       \n",
      " 8   Volume        2640 non-null   int64         \n",
      " 9   HL_pct        2640 non-null   float64       \n",
      " 10  PCT_change    2640 non-null   float64       \n",
      "dtypes: datetime64[ns](1), float64(5), int64(2), object(3)\n",
      "memory usage: 227.0+ KB\n"
     ]
    }
   ],
   "source": [
    "merge_data.info()"
   ]
  },
  {
   "cell_type": "code",
   "execution_count": 72,
   "metadata": {},
   "outputs": [],
   "source": [
    "merge_data = merge_data.drop(0)"
   ]
  },
  {
   "cell_type": "code",
   "execution_count": 73,
   "metadata": {},
   "outputs": [],
   "source": [
    "merge_data = merge_data[merge_data['Adj Close'].notna()]"
   ]
  },
  {
   "cell_type": "code",
   "execution_count": 74,
   "metadata": {},
   "outputs": [
    {
     "name": "stdout",
     "output_type": "stream",
     "text": [
      "<class 'pandas.core.frame.DataFrame'>\n",
      "Int64Index: 2639 entries, 1 to 2639\n",
      "Data columns (total 11 columns):\n",
      " #   Column        Non-Null Count  Dtype         \n",
      "---  ------        --------------  -----         \n",
      " 0   index         2639 non-null   int64         \n",
      " 1   Date          2639 non-null   datetime64[ns]\n",
      " 2   Headline      2639 non-null   object        \n",
      " 3   Polarity      2639 non-null   float64       \n",
      " 4   Subjectivity  2639 non-null   float64       \n",
      " 5   Sentiment     2639 non-null   object        \n",
      " 6   Opinion       2639 non-null   object        \n",
      " 7   Adj Close     2639 non-null   float64       \n",
      " 8   Volume        2639 non-null   int64         \n",
      " 9   HL_pct        2639 non-null   float64       \n",
      " 10  PCT_change    2639 non-null   float64       \n",
      "dtypes: datetime64[ns](1), float64(5), int64(2), object(3)\n",
      "memory usage: 247.4+ KB\n"
     ]
    }
   ],
   "source": [
    "merge_data.info()"
   ]
  },
  {
   "cell_type": "code",
   "execution_count": 75,
   "metadata": {},
   "outputs": [
    {
     "data": {
      "text/html": [
       "<div>\n",
       "<style scoped>\n",
       "    .dataframe tbody tr th:only-of-type {\n",
       "        vertical-align: middle;\n",
       "    }\n",
       "\n",
       "    .dataframe tbody tr th {\n",
       "        vertical-align: top;\n",
       "    }\n",
       "\n",
       "    .dataframe thead th {\n",
       "        text-align: right;\n",
       "    }\n",
       "</style>\n",
       "<table border=\"1\" class=\"dataframe\">\n",
       "  <thead>\n",
       "    <tr style=\"text-align: right;\">\n",
       "      <th></th>\n",
       "      <th>level_0</th>\n",
       "      <th>index</th>\n",
       "      <th>Date</th>\n",
       "      <th>Headline</th>\n",
       "      <th>Polarity</th>\n",
       "      <th>Subjectivity</th>\n",
       "      <th>Sentiment</th>\n",
       "      <th>Opinion</th>\n",
       "      <th>Adj Close</th>\n",
       "      <th>Volume</th>\n",
       "      <th>HL_pct</th>\n",
       "      <th>PCT_change</th>\n",
       "    </tr>\n",
       "  </thead>\n",
       "  <tbody>\n",
       "    <tr>\n",
       "      <th>0</th>\n",
       "      <td>1</td>\n",
       "      <td>1</td>\n",
       "      <td>2010-01-05</td>\n",
       "      <td>. MJ's new track leaked on internet. Ranbir's ...</td>\n",
       "      <td>0.011382</td>\n",
       "      <td>0.418044</td>\n",
       "      <td>Neutral</td>\n",
       "      <td>Public</td>\n",
       "      <td>310.829926</td>\n",
       "      <td>6031900</td>\n",
       "      <td>1.013614</td>\n",
       "      <td>-0.508628</td>\n",
       "    </tr>\n",
       "    <tr>\n",
       "      <th>1</th>\n",
       "      <td>2</td>\n",
       "      <td>2</td>\n",
       "      <td>2010-01-06</td>\n",
       "      <td>. Can a man and woman be just friends?. Aamir;...</td>\n",
       "      <td>0.050457</td>\n",
       "      <td>0.427033</td>\n",
       "      <td>Neutral</td>\n",
       "      <td>Public</td>\n",
       "      <td>302.994293</td>\n",
       "      <td>7987100</td>\n",
       "      <td>3.215912</td>\n",
       "      <td>-2.812134</td>\n",
       "    </tr>\n",
       "    <tr>\n",
       "      <th>2</th>\n",
       "      <td>3</td>\n",
       "      <td>3</td>\n",
       "      <td>2010-01-07</td>\n",
       "      <td>. Rahman's going green. Fans; forgive Aamir: C...</td>\n",
       "      <td>0.037038</td>\n",
       "      <td>0.404291</td>\n",
       "      <td>Neutral</td>\n",
       "      <td>Public</td>\n",
       "      <td>295.940735</td>\n",
       "      <td>12876600</td>\n",
       "      <td>2.927530</td>\n",
       "      <td>-2.510665</td>\n",
       "    </tr>\n",
       "    <tr>\n",
       "      <th>3</th>\n",
       "      <td>4</td>\n",
       "      <td>4</td>\n",
       "      <td>2010-01-08</td>\n",
       "      <td>. Bicholim fire cell saved 79 lives in '09. Se...</td>\n",
       "      <td>0.032007</td>\n",
       "      <td>0.379068</td>\n",
       "      <td>Neutral</td>\n",
       "      <td>Factual</td>\n",
       "      <td>299.885956</td>\n",
       "      <td>9483900</td>\n",
       "      <td>2.400234</td>\n",
       "      <td>1.692572</td>\n",
       "    </tr>\n",
       "    <tr>\n",
       "      <th>4</th>\n",
       "      <td>5</td>\n",
       "      <td>5</td>\n",
       "      <td>2010-01-11</td>\n",
       "      <td>. Creating a landscape of love and beauty. Bik...</td>\n",
       "      <td>0.038467</td>\n",
       "      <td>0.405701</td>\n",
       "      <td>Neutral</td>\n",
       "      <td>Public</td>\n",
       "      <td>299.432648</td>\n",
       "      <td>14479800</td>\n",
       "      <td>1.754093</td>\n",
       "      <td>-0.554219</td>\n",
       "    </tr>\n",
       "  </tbody>\n",
       "</table>\n",
       "</div>"
      ],
      "text/plain": [
       "   level_0  index       Date  \\\n",
       "0        1      1 2010-01-05   \n",
       "1        2      2 2010-01-06   \n",
       "2        3      3 2010-01-07   \n",
       "3        4      4 2010-01-08   \n",
       "4        5      5 2010-01-11   \n",
       "\n",
       "                                            Headline  Polarity  Subjectivity  \\\n",
       "0  . MJ's new track leaked on internet. Ranbir's ...  0.011382      0.418044   \n",
       "1  . Can a man and woman be just friends?. Aamir;...  0.050457      0.427033   \n",
       "2  . Rahman's going green. Fans; forgive Aamir: C...  0.037038      0.404291   \n",
       "3  . Bicholim fire cell saved 79 lives in '09. Se...  0.032007      0.379068   \n",
       "4  . Creating a landscape of love and beauty. Bik...  0.038467      0.405701   \n",
       "\n",
       "  Sentiment  Opinion   Adj Close    Volume    HL_pct  PCT_change  \n",
       "0   Neutral   Public  310.829926   6031900  1.013614   -0.508628  \n",
       "1   Neutral   Public  302.994293   7987100  3.215912   -2.812134  \n",
       "2   Neutral   Public  295.940735  12876600  2.927530   -2.510665  \n",
       "3   Neutral  Factual  299.885956   9483900  2.400234    1.692572  \n",
       "4   Neutral   Public  299.432648  14479800  1.754093   -0.554219  "
      ]
     },
     "execution_count": 75,
     "metadata": {},
     "output_type": "execute_result"
    }
   ],
   "source": [
    "merge_data = merge_data.reset_index()\n",
    "merge_data.head()"
   ]
  },
  {
   "cell_type": "code",
   "execution_count": 76,
   "metadata": {},
   "outputs": [
    {
     "data": {
      "text/html": [
       "<div>\n",
       "<style scoped>\n",
       "    .dataframe tbody tr th:only-of-type {\n",
       "        vertical-align: middle;\n",
       "    }\n",
       "\n",
       "    .dataframe tbody tr th {\n",
       "        vertical-align: top;\n",
       "    }\n",
       "\n",
       "    .dataframe thead th {\n",
       "        text-align: right;\n",
       "    }\n",
       "</style>\n",
       "<table border=\"1\" class=\"dataframe\">\n",
       "  <thead>\n",
       "    <tr style=\"text-align: right;\">\n",
       "      <th></th>\n",
       "      <th>Date</th>\n",
       "      <th>Headline</th>\n",
       "      <th>Polarity</th>\n",
       "      <th>Subjectivity</th>\n",
       "      <th>Sentiment</th>\n",
       "      <th>Opinion</th>\n",
       "      <th>Adj Close</th>\n",
       "      <th>Volume</th>\n",
       "      <th>HL_pct</th>\n",
       "      <th>PCT_change</th>\n",
       "    </tr>\n",
       "  </thead>\n",
       "  <tbody>\n",
       "    <tr>\n",
       "      <th>0</th>\n",
       "      <td>2010-01-05</td>\n",
       "      <td>. MJ's new track leaked on internet. Ranbir's ...</td>\n",
       "      <td>0.011382</td>\n",
       "      <td>0.418044</td>\n",
       "      <td>Neutral</td>\n",
       "      <td>Public</td>\n",
       "      <td>310.829926</td>\n",
       "      <td>6031900</td>\n",
       "      <td>1.013614</td>\n",
       "      <td>-0.508628</td>\n",
       "    </tr>\n",
       "    <tr>\n",
       "      <th>1</th>\n",
       "      <td>2010-01-06</td>\n",
       "      <td>. Can a man and woman be just friends?. Aamir;...</td>\n",
       "      <td>0.050457</td>\n",
       "      <td>0.427033</td>\n",
       "      <td>Neutral</td>\n",
       "      <td>Public</td>\n",
       "      <td>302.994293</td>\n",
       "      <td>7987100</td>\n",
       "      <td>3.215912</td>\n",
       "      <td>-2.812134</td>\n",
       "    </tr>\n",
       "    <tr>\n",
       "      <th>2</th>\n",
       "      <td>2010-01-07</td>\n",
       "      <td>. Rahman's going green. Fans; forgive Aamir: C...</td>\n",
       "      <td>0.037038</td>\n",
       "      <td>0.404291</td>\n",
       "      <td>Neutral</td>\n",
       "      <td>Public</td>\n",
       "      <td>295.940735</td>\n",
       "      <td>12876600</td>\n",
       "      <td>2.927530</td>\n",
       "      <td>-2.510665</td>\n",
       "    </tr>\n",
       "    <tr>\n",
       "      <th>3</th>\n",
       "      <td>2010-01-08</td>\n",
       "      <td>. Bicholim fire cell saved 79 lives in '09. Se...</td>\n",
       "      <td>0.032007</td>\n",
       "      <td>0.379068</td>\n",
       "      <td>Neutral</td>\n",
       "      <td>Factual</td>\n",
       "      <td>299.885956</td>\n",
       "      <td>9483900</td>\n",
       "      <td>2.400234</td>\n",
       "      <td>1.692572</td>\n",
       "    </tr>\n",
       "    <tr>\n",
       "      <th>4</th>\n",
       "      <td>2010-01-11</td>\n",
       "      <td>. Creating a landscape of love and beauty. Bik...</td>\n",
       "      <td>0.038467</td>\n",
       "      <td>0.405701</td>\n",
       "      <td>Neutral</td>\n",
       "      <td>Public</td>\n",
       "      <td>299.432648</td>\n",
       "      <td>14479800</td>\n",
       "      <td>1.754093</td>\n",
       "      <td>-0.554219</td>\n",
       "    </tr>\n",
       "  </tbody>\n",
       "</table>\n",
       "</div>"
      ],
      "text/plain": [
       "        Date                                           Headline  Polarity  \\\n",
       "0 2010-01-05  . MJ's new track leaked on internet. Ranbir's ...  0.011382   \n",
       "1 2010-01-06  . Can a man and woman be just friends?. Aamir;...  0.050457   \n",
       "2 2010-01-07  . Rahman's going green. Fans; forgive Aamir: C...  0.037038   \n",
       "3 2010-01-08  . Bicholim fire cell saved 79 lives in '09. Se...  0.032007   \n",
       "4 2010-01-11  . Creating a landscape of love and beauty. Bik...  0.038467   \n",
       "\n",
       "   Subjectivity Sentiment  Opinion   Adj Close    Volume    HL_pct  PCT_change  \n",
       "0      0.418044   Neutral   Public  310.829926   6031900  1.013614   -0.508628  \n",
       "1      0.427033   Neutral   Public  302.994293   7987100  3.215912   -2.812134  \n",
       "2      0.404291   Neutral   Public  295.940735  12876600  2.927530   -2.510665  \n",
       "3      0.379068   Neutral  Factual  299.885956   9483900  2.400234    1.692572  \n",
       "4      0.405701   Neutral   Public  299.432648  14479800  1.754093   -0.554219  "
      ]
     },
     "execution_count": 76,
     "metadata": {},
     "output_type": "execute_result"
    }
   ],
   "source": [
    "merge_data = merge_data.drop(['level_0', 'index'], axis=1)\n",
    "merge_data.head()"
   ]
  },
  {
   "cell_type": "code",
   "execution_count": 77,
   "metadata": {},
   "outputs": [
    {
     "data": {
      "text/html": [
       "<div>\n",
       "<style scoped>\n",
       "    .dataframe tbody tr th:only-of-type {\n",
       "        vertical-align: middle;\n",
       "    }\n",
       "\n",
       "    .dataframe tbody tr th {\n",
       "        vertical-align: top;\n",
       "    }\n",
       "\n",
       "    .dataframe thead th {\n",
       "        text-align: right;\n",
       "    }\n",
       "</style>\n",
       "<table border=\"1\" class=\"dataframe\">\n",
       "  <thead>\n",
       "    <tr style=\"text-align: right;\">\n",
       "      <th></th>\n",
       "      <th>Date</th>\n",
       "      <th>Polarity</th>\n",
       "      <th>Subjectivity</th>\n",
       "      <th>Adj Close</th>\n",
       "      <th>HL_pct</th>\n",
       "      <th>PCT_change</th>\n",
       "    </tr>\n",
       "  </thead>\n",
       "  <tbody>\n",
       "    <tr>\n",
       "      <th>0</th>\n",
       "      <td>2010-01-05</td>\n",
       "      <td>0.011382</td>\n",
       "      <td>0.418044</td>\n",
       "      <td>310.829926</td>\n",
       "      <td>1.013614</td>\n",
       "      <td>-0.508628</td>\n",
       "    </tr>\n",
       "    <tr>\n",
       "      <th>1</th>\n",
       "      <td>2010-01-06</td>\n",
       "      <td>0.050457</td>\n",
       "      <td>0.427033</td>\n",
       "      <td>302.994293</td>\n",
       "      <td>3.215912</td>\n",
       "      <td>-2.812134</td>\n",
       "    </tr>\n",
       "    <tr>\n",
       "      <th>2</th>\n",
       "      <td>2010-01-07</td>\n",
       "      <td>0.037038</td>\n",
       "      <td>0.404291</td>\n",
       "      <td>295.940735</td>\n",
       "      <td>2.927530</td>\n",
       "      <td>-2.510665</td>\n",
       "    </tr>\n",
       "    <tr>\n",
       "      <th>3</th>\n",
       "      <td>2010-01-08</td>\n",
       "      <td>0.032007</td>\n",
       "      <td>0.379068</td>\n",
       "      <td>299.885956</td>\n",
       "      <td>2.400234</td>\n",
       "      <td>1.692572</td>\n",
       "    </tr>\n",
       "    <tr>\n",
       "      <th>4</th>\n",
       "      <td>2010-01-11</td>\n",
       "      <td>0.038467</td>\n",
       "      <td>0.405701</td>\n",
       "      <td>299.432648</td>\n",
       "      <td>1.754093</td>\n",
       "      <td>-0.554219</td>\n",
       "    </tr>\n",
       "  </tbody>\n",
       "</table>\n",
       "</div>"
      ],
      "text/plain": [
       "        Date  Polarity  Subjectivity   Adj Close    HL_pct  PCT_change\n",
       "0 2010-01-05  0.011382      0.418044  310.829926  1.013614   -0.508628\n",
       "1 2010-01-06  0.050457      0.427033  302.994293  3.215912   -2.812134\n",
       "2 2010-01-07  0.037038      0.404291  295.940735  2.927530   -2.510665\n",
       "3 2010-01-08  0.032007      0.379068  299.885956  2.400234    1.692572\n",
       "4 2010-01-11  0.038467      0.405701  299.432648  1.754093   -0.554219"
      ]
     },
     "execution_count": 77,
     "metadata": {},
     "output_type": "execute_result"
    }
   ],
   "source": [
    "df_needed = merge_data[['Date', 'Polarity', 'Subjectivity','Adj Close','HL_pct','PCT_change']]\n",
    "df_needed.head()"
   ]
  },
  {
   "cell_type": "code",
   "execution_count": 78,
   "metadata": {},
   "outputs": [],
   "source": [
    "df_needed = df_needed.set_index('Date')"
   ]
  },
  {
   "cell_type": "code",
   "execution_count": 79,
   "metadata": {},
   "outputs": [
    {
     "data": {
      "text/html": [
       "<div>\n",
       "<style scoped>\n",
       "    .dataframe tbody tr th:only-of-type {\n",
       "        vertical-align: middle;\n",
       "    }\n",
       "\n",
       "    .dataframe tbody tr th {\n",
       "        vertical-align: top;\n",
       "    }\n",
       "\n",
       "    .dataframe thead th {\n",
       "        text-align: right;\n",
       "    }\n",
       "</style>\n",
       "<table border=\"1\" class=\"dataframe\">\n",
       "  <thead>\n",
       "    <tr style=\"text-align: right;\">\n",
       "      <th></th>\n",
       "      <th>Polarity</th>\n",
       "      <th>Subjectivity</th>\n",
       "      <th>Adj Close</th>\n",
       "      <th>HL_pct</th>\n",
       "      <th>PCT_change</th>\n",
       "    </tr>\n",
       "    <tr>\n",
       "      <th>Date</th>\n",
       "      <th></th>\n",
       "      <th></th>\n",
       "      <th></th>\n",
       "      <th></th>\n",
       "      <th></th>\n",
       "    </tr>\n",
       "  </thead>\n",
       "  <tbody>\n",
       "    <tr>\n",
       "      <th>2010-01-05</th>\n",
       "      <td>0.011382</td>\n",
       "      <td>0.418044</td>\n",
       "      <td>310.829926</td>\n",
       "      <td>1.013614</td>\n",
       "      <td>-0.508628</td>\n",
       "    </tr>\n",
       "    <tr>\n",
       "      <th>2010-01-06</th>\n",
       "      <td>0.050457</td>\n",
       "      <td>0.427033</td>\n",
       "      <td>302.994293</td>\n",
       "      <td>3.215912</td>\n",
       "      <td>-2.812134</td>\n",
       "    </tr>\n",
       "    <tr>\n",
       "      <th>2010-01-07</th>\n",
       "      <td>0.037038</td>\n",
       "      <td>0.404291</td>\n",
       "      <td>295.940735</td>\n",
       "      <td>2.927530</td>\n",
       "      <td>-2.510665</td>\n",
       "    </tr>\n",
       "    <tr>\n",
       "      <th>2010-01-08</th>\n",
       "      <td>0.032007</td>\n",
       "      <td>0.379068</td>\n",
       "      <td>299.885956</td>\n",
       "      <td>2.400234</td>\n",
       "      <td>1.692572</td>\n",
       "    </tr>\n",
       "    <tr>\n",
       "      <th>2010-01-11</th>\n",
       "      <td>0.038467</td>\n",
       "      <td>0.405701</td>\n",
       "      <td>299.432648</td>\n",
       "      <td>1.754093</td>\n",
       "      <td>-0.554219</td>\n",
       "    </tr>\n",
       "  </tbody>\n",
       "</table>\n",
       "</div>"
      ],
      "text/plain": [
       "            Polarity  Subjectivity   Adj Close    HL_pct  PCT_change\n",
       "Date                                                                \n",
       "2010-01-05  0.011382      0.418044  310.829926  1.013614   -0.508628\n",
       "2010-01-06  0.050457      0.427033  302.994293  3.215912   -2.812134\n",
       "2010-01-07  0.037038      0.404291  295.940735  2.927530   -2.510665\n",
       "2010-01-08  0.032007      0.379068  299.885956  2.400234    1.692572\n",
       "2010-01-11  0.038467      0.405701  299.432648  1.754093   -0.554219"
      ]
     },
     "execution_count": 79,
     "metadata": {},
     "output_type": "execute_result"
    }
   ],
   "source": [
    "df_needed.head()"
   ]
  },
  {
   "cell_type": "markdown",
   "metadata": {},
   "source": [
    "# Scaling the data using MinMaxScaler to develop a model based on it."
   ]
  },
  {
   "cell_type": "code",
   "execution_count": 80,
   "metadata": {},
   "outputs": [
    {
     "data": {
      "text/html": [
       "<div>\n",
       "<style scoped>\n",
       "    .dataframe tbody tr th:only-of-type {\n",
       "        vertical-align: middle;\n",
       "    }\n",
       "\n",
       "    .dataframe tbody tr th {\n",
       "        vertical-align: top;\n",
       "    }\n",
       "\n",
       "    .dataframe thead th {\n",
       "        text-align: right;\n",
       "    }\n",
       "</style>\n",
       "<table border=\"1\" class=\"dataframe\">\n",
       "  <thead>\n",
       "    <tr style=\"text-align: right;\">\n",
       "      <th></th>\n",
       "      <th>Polarity</th>\n",
       "      <th>Subjectivity</th>\n",
       "      <th>Adj Close</th>\n",
       "      <th>HL_pct</th>\n",
       "      <th>PCT_change</th>\n",
       "    </tr>\n",
       "    <tr>\n",
       "      <th>Date</th>\n",
       "      <th></th>\n",
       "      <th></th>\n",
       "      <th></th>\n",
       "      <th></th>\n",
       "      <th></th>\n",
       "    </tr>\n",
       "  </thead>\n",
       "  <tbody>\n",
       "    <tr>\n",
       "      <th>2010-01-05</th>\n",
       "      <td>0.183926</td>\n",
       "      <td>0.504397</td>\n",
       "      <td>0.071486</td>\n",
       "      <td>0.051964</td>\n",
       "      <td>0.567920</td>\n",
       "    </tr>\n",
       "    <tr>\n",
       "      <th>2010-01-06</th>\n",
       "      <td>0.395381</td>\n",
       "      <td>0.557507</td>\n",
       "      <td>0.065502</td>\n",
       "      <td>0.233663</td>\n",
       "      <td>0.393590</td>\n",
       "    </tr>\n",
       "    <tr>\n",
       "      <th>2010-01-07</th>\n",
       "      <td>0.322763</td>\n",
       "      <td>0.423147</td>\n",
       "      <td>0.060116</td>\n",
       "      <td>0.209871</td>\n",
       "      <td>0.416405</td>\n",
       "    </tr>\n",
       "    <tr>\n",
       "      <th>2010-01-08</th>\n",
       "      <td>0.295538</td>\n",
       "      <td>0.274127</td>\n",
       "      <td>0.063129</td>\n",
       "      <td>0.166367</td>\n",
       "      <td>0.734508</td>\n",
       "    </tr>\n",
       "    <tr>\n",
       "      <th>2010-01-11</th>\n",
       "      <td>0.330499</td>\n",
       "      <td>0.431475</td>\n",
       "      <td>0.062783</td>\n",
       "      <td>0.113057</td>\n",
       "      <td>0.564470</td>\n",
       "    </tr>\n",
       "  </tbody>\n",
       "</table>\n",
       "</div>"
      ],
      "text/plain": [
       "            Polarity  Subjectivity  Adj Close    HL_pct  PCT_change\n",
       "Date                                                               \n",
       "2010-01-05  0.183926      0.504397   0.071486  0.051964    0.567920\n",
       "2010-01-06  0.395381      0.557507   0.065502  0.233663    0.393590\n",
       "2010-01-07  0.322763      0.423147   0.060116  0.209871    0.416405\n",
       "2010-01-08  0.295538      0.274127   0.063129  0.166367    0.734508\n",
       "2010-01-11  0.330499      0.431475   0.062783  0.113057    0.564470"
      ]
     },
     "execution_count": 80,
     "metadata": {},
     "output_type": "execute_result"
    }
   ],
   "source": [
    "scaler = MinMaxScaler()\n",
    "new = pd.DataFrame(scaler.fit_transform(df_needed))\n",
    "new.columns = df_needed.columns\n",
    "new.index=df_needed.index\n",
    "new.head()"
   ]
  },
  {
   "cell_type": "code",
   "execution_count": 81,
   "metadata": {},
   "outputs": [],
   "source": [
    "trainSet = new[: int(0.7*(len(new)))]\n",
    "testSet = new[int(0.7*(len(new))):]"
   ]
  },
  {
   "cell_type": "code",
   "execution_count": 82,
   "metadata": {},
   "outputs": [],
   "source": [
    "from statsmodels.tsa.vector_ar.var_model import VAR"
   ]
  },
  {
   "cell_type": "code",
   "execution_count": 83,
   "metadata": {},
   "outputs": [
    {
     "name": "stderr",
     "output_type": "stream",
     "text": [
      "C:\\Users\\Hiu\\anaconda3\\lib\\site-packages\\statsmodels\\tsa\\base\\tsa_model.py:216: ValueWarning: A date index has been provided, but it has no associated frequency information and so will be ignored when e.g. forecasting.\n",
      "  warnings.warn('A date index has been provided, but it has no'\n"
     ]
    }
   ],
   "source": [
    "model = VAR(endog = trainSet)\n",
    "fit = model.fit()"
   ]
  },
  {
   "cell_type": "markdown",
   "metadata": {},
   "source": [
    "# Predicted vs Test Set"
   ]
  },
  {
   "cell_type": "code",
   "execution_count": 84,
   "metadata": {},
   "outputs": [
    {
     "name": "stderr",
     "output_type": "stream",
     "text": [
      "C:\\Users\\Hiu\\anaconda3\\lib\\site-packages\\statsmodels\\base\\wrapper.py:36: FutureWarning: y is a deprecated alias for endog, will be removed in version 0.11.0\n",
      "  obj = getattr(results, attr)\n"
     ]
    }
   ],
   "source": [
    "pred = fit.forecast(fit.y, steps=len(testSet))\n",
    "predicted = pd.DataFrame(pred, columns=new.columns)"
   ]
  },
  {
   "cell_type": "code",
   "execution_count": 85,
   "metadata": {},
   "outputs": [
    {
     "data": {
      "text/html": [
       "<div>\n",
       "<style scoped>\n",
       "    .dataframe tbody tr th:only-of-type {\n",
       "        vertical-align: middle;\n",
       "    }\n",
       "\n",
       "    .dataframe tbody tr th {\n",
       "        vertical-align: top;\n",
       "    }\n",
       "\n",
       "    .dataframe thead th {\n",
       "        text-align: right;\n",
       "    }\n",
       "</style>\n",
       "<table border=\"1\" class=\"dataframe\">\n",
       "  <thead>\n",
       "    <tr style=\"text-align: right;\">\n",
       "      <th></th>\n",
       "      <th>Polarity</th>\n",
       "      <th>Subjectivity</th>\n",
       "      <th>Adj Close</th>\n",
       "      <th>HL_pct</th>\n",
       "      <th>PCT_change</th>\n",
       "    </tr>\n",
       "  </thead>\n",
       "  <tbody>\n",
       "    <tr>\n",
       "      <th>0</th>\n",
       "      <td>0.456108</td>\n",
       "      <td>0.380699</td>\n",
       "      <td>0.542363</td>\n",
       "      <td>0.075786</td>\n",
       "      <td>0.607135</td>\n",
       "    </tr>\n",
       "    <tr>\n",
       "      <th>1</th>\n",
       "      <td>0.491476</td>\n",
       "      <td>0.391126</td>\n",
       "      <td>0.542791</td>\n",
       "      <td>0.080029</td>\n",
       "      <td>0.605083</td>\n",
       "    </tr>\n",
       "    <tr>\n",
       "      <th>2</th>\n",
       "      <td>0.498320</td>\n",
       "      <td>0.394096</td>\n",
       "      <td>0.543240</td>\n",
       "      <td>0.081695</td>\n",
       "      <td>0.604745</td>\n",
       "    </tr>\n",
       "    <tr>\n",
       "      <th>3</th>\n",
       "      <td>0.499708</td>\n",
       "      <td>0.394756</td>\n",
       "      <td>0.543693</td>\n",
       "      <td>0.082381</td>\n",
       "      <td>0.604621</td>\n",
       "    </tr>\n",
       "    <tr>\n",
       "      <th>4</th>\n",
       "      <td>0.499999</td>\n",
       "      <td>0.394876</td>\n",
       "      <td>0.544146</td>\n",
       "      <td>0.082659</td>\n",
       "      <td>0.604567</td>\n",
       "    </tr>\n",
       "  </tbody>\n",
       "</table>\n",
       "</div>"
      ],
      "text/plain": [
       "   Polarity  Subjectivity  Adj Close    HL_pct  PCT_change\n",
       "0  0.456108      0.380699   0.542363  0.075786    0.607135\n",
       "1  0.491476      0.391126   0.542791  0.080029    0.605083\n",
       "2  0.498320      0.394096   0.543240  0.081695    0.604745\n",
       "3  0.499708      0.394756   0.543693  0.082381    0.604621\n",
       "4  0.499999      0.394876   0.544146  0.082659    0.604567"
      ]
     },
     "execution_count": 85,
     "metadata": {},
     "output_type": "execute_result"
    }
   ],
   "source": [
    "predicted.head()"
   ]
  },
  {
   "cell_type": "code",
   "execution_count": 86,
   "metadata": {},
   "outputs": [
    {
     "data": {
      "text/html": [
       "<div>\n",
       "<style scoped>\n",
       "    .dataframe tbody tr th:only-of-type {\n",
       "        vertical-align: middle;\n",
       "    }\n",
       "\n",
       "    .dataframe tbody tr th {\n",
       "        vertical-align: top;\n",
       "    }\n",
       "\n",
       "    .dataframe thead th {\n",
       "        text-align: right;\n",
       "    }\n",
       "</style>\n",
       "<table border=\"1\" class=\"dataframe\">\n",
       "  <thead>\n",
       "    <tr style=\"text-align: right;\">\n",
       "      <th></th>\n",
       "      <th>Polarity</th>\n",
       "      <th>Subjectivity</th>\n",
       "      <th>Adj Close</th>\n",
       "      <th>HL_pct</th>\n",
       "      <th>PCT_change</th>\n",
       "    </tr>\n",
       "    <tr>\n",
       "      <th>Date</th>\n",
       "      <th></th>\n",
       "      <th></th>\n",
       "      <th></th>\n",
       "      <th></th>\n",
       "      <th></th>\n",
       "    </tr>\n",
       "  </thead>\n",
       "  <tbody>\n",
       "    <tr>\n",
       "      <th>2017-05-08</th>\n",
       "      <td>0.550694</td>\n",
       "      <td>0.381763</td>\n",
       "      <td>0.547611</td>\n",
       "      <td>0.072352</td>\n",
       "      <td>0.673258</td>\n",
       "    </tr>\n",
       "    <tr>\n",
       "      <th>2017-05-09</th>\n",
       "      <td>0.270059</td>\n",
       "      <td>0.353175</td>\n",
       "      <td>0.545984</td>\n",
       "      <td>0.039078</td>\n",
       "      <td>0.567803</td>\n",
       "    </tr>\n",
       "    <tr>\n",
       "      <th>2017-05-10</th>\n",
       "      <td>0.503618</td>\n",
       "      <td>0.359018</td>\n",
       "      <td>0.543395</td>\n",
       "      <td>0.029335</td>\n",
       "      <td>0.580428</td>\n",
       "    </tr>\n",
       "    <tr>\n",
       "      <th>2017-05-11</th>\n",
       "      <td>0.522164</td>\n",
       "      <td>0.356813</td>\n",
       "      <td>0.544785</td>\n",
       "      <td>0.053252</td>\n",
       "      <td>0.649597</td>\n",
       "    </tr>\n",
       "    <tr>\n",
       "      <th>2017-05-12</th>\n",
       "      <td>0.321974</td>\n",
       "      <td>0.225193</td>\n",
       "      <td>0.546022</td>\n",
       "      <td>0.018043</td>\n",
       "      <td>0.612019</td>\n",
       "    </tr>\n",
       "  </tbody>\n",
       "</table>\n",
       "</div>"
      ],
      "text/plain": [
       "            Polarity  Subjectivity  Adj Close    HL_pct  PCT_change\n",
       "Date                                                               \n",
       "2017-05-08  0.550694      0.381763   0.547611  0.072352    0.673258\n",
       "2017-05-09  0.270059      0.353175   0.545984  0.039078    0.567803\n",
       "2017-05-10  0.503618      0.359018   0.543395  0.029335    0.580428\n",
       "2017-05-11  0.522164      0.356813   0.544785  0.053252    0.649597\n",
       "2017-05-12  0.321974      0.225193   0.546022  0.018043    0.612019"
      ]
     },
     "execution_count": 86,
     "metadata": {},
     "output_type": "execute_result"
    }
   ],
   "source": [
    "testSet.head()"
   ]
  }
 ],
 "metadata": {
  "kernelspec": {
   "display_name": "Python 3",
   "language": "python",
   "name": "python3"
  },
  "language_info": {
   "codemirror_mode": {
    "name": "ipython",
    "version": 3
   },
   "file_extension": ".py",
   "mimetype": "text/x-python",
   "name": "python",
   "nbconvert_exporter": "python",
   "pygments_lexer": "ipython3",
   "version": "3.8.3"
  }
 },
 "nbformat": 4,
 "nbformat_minor": 4
}
